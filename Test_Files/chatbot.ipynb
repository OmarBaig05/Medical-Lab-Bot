{
 "cells": [
  {
   "cell_type": "code",
   "execution_count": 11,
   "metadata": {},
   "outputs": [],
   "source": [
    "import dotenv\n",
    "import os\n",
    "import requests\n",
    "import json\n",
    "import re\n",
    "import tiktoken\n",
    "from bs4 import BeautifulSoup\n",
    "from pinecone import Pinecone\n",
    "from langchain_groq import ChatGroq\n",
    "from langchain_core.output_parsers import StrOutputParser\n",
    "from sentence_transformers import SentenceTransformer\n",
    "from langchain.memory import ConversationBufferMemory\n",
    "from langchain.chains import ConversationChain\n",
    "from langchain.schema import SystemMessage, HumanMessage\n",
    "\n",
    "dotenv.load_dotenv(\".env\")\n",
    "PINECONE_API_KEY = os.getenv(\"PINECONE_API_KEY\")\n",
    "GROQ_API_KEY = os.getenv(\"GROQ_API_KEY\")\n",
    "SERPER_API_KEY = os.getenv(\"SERPER_API_KEY\")"
   ]
  },
  {
   "cell_type": "code",
   "execution_count": 12,
   "metadata": {},
   "outputs": [],
   "source": [
    "url = \"https://google.serper.dev/search\""
   ]
  },
  {
   "cell_type": "code",
   "execution_count": 3,
   "metadata": {},
   "outputs": [
    {
     "data": {
      "text/plain": [
       "<pinecone.data.index.Index at 0x272fb977410>"
      ]
     },
     "execution_count": 3,
     "metadata": {},
     "output_type": "execute_result"
    }
   ],
   "source": [
    "pc = Pinecone(api_key=PINECONE_API_KEY)\n",
    "index_name = \"medical-data\"\n",
    "# index_name = \"medicalbot-vdb\"\n",
    "index = pc.Index(index_name)\n",
    "index"
   ]
  },
  {
   "cell_type": "code",
   "execution_count": 13,
   "metadata": {},
   "outputs": [],
   "source": [
    "embedding_model = SentenceTransformer(\"sentence-transformers/msmarco-bert-base-dot-v5\")"
   ]
  },
  {
   "cell_type": "code",
   "execution_count": 14,
   "metadata": {},
   "outputs": [],
   "source": [
    "def remove_tags(text):\n",
    "    pattern = re.compile(r'<think>.*?</think>', re.DOTALL)\n",
    "    cleaned_text = re.sub(pattern, '', text)\n",
    "    return cleaned_text\n",
    "\n",
    "def only_p_tags(text):\n",
    "    descriptions = re.findall(r\"<p>(.*?)</p>\", text)\n",
    "    return descriptions\n",
    "\n",
    "\n",
    "def get_unique_content_only(results):\n",
    "    \n",
    "    context = ''\n",
    "    for search_result in results: \n",
    "        for match in search_result[\"matches\"]:\n",
    "            if match['metadata']['text'] not in context:\n",
    "                context += f\"- {match['metadata']['text']}\\n\"\n",
    "    return context\n",
    "\n",
    "def retrieve_context(description):\n",
    "    results = []\n",
    "\n",
    "    for i in range(len(description)):\n",
    "        query_vector = embedding_model.encode(description[i]).tolist()\n",
    "        search_results = index.query(vector=query_vector, top_k=5, include_metadata=True)\n",
    "        results.append(search_results)\n",
    "    return results\n",
    "\n",
    "    "
   ]
  },
  {
   "cell_type": "code",
   "execution_count": 15,
   "metadata": {},
   "outputs": [],
   "source": [
    "model_name = \"deepseek-r1-distill-llama-70b\"\n",
    "# model_name = \"llama-3.3-70b-versatile\"\n",
    "# model_name = \"qwen-2.5-32b\"\n",
    "\n",
    "\n",
    "chat = ChatGroq(\n",
    "api_key = GROQ_API_KEY,\n",
    "model_name = model_name\n",
    ")"
   ]
  },
  {
   "cell_type": "code",
   "execution_count": 23,
   "metadata": {},
   "outputs": [],
   "source": [
    "model2 = \"deepseek-r1-distill-llama-70b\"\n",
    "\n",
    "chat2 = ChatGroq(\n",
    "api_key = GROQ_API_KEY,\n",
    "model_name = model2\n",
    ")   \n",
    "\n",
    "tokenizer = tiktoken.get_encoding(\"cl100k_base\")  # Adjust for your LLM"
   ]
  },
  {
   "cell_type": "code",
   "execution_count": 24,
   "metadata": {},
   "outputs": [],
   "source": [
    "def chunk_text(text, max_tokens=4500):\n",
    "    \"\"\"Splits text into token-based chunks without cutting sentences abruptly.\"\"\"\n",
    "    \n",
    "    words = text.split()\n",
    "\n",
    "    chunks = []\n",
    "    current_chunk = []\n",
    "    token_count = 0\n",
    "\n",
    "    for word in words:\n",
    "        word_tokens = len(tokenizer.encode(word))  # Get token count for each word\n",
    "\n",
    "        if token_count + word_tokens > max_tokens:\n",
    "            chunks.append(\" \".join(current_chunk))\n",
    "            current_chunk = []\n",
    "            token_count = 0\n",
    "\n",
    "        current_chunk.append(word)\n",
    "        token_count += word_tokens\n",
    "\n",
    "    if current_chunk:\n",
    "        chunks.append(\" \".join(current_chunk))\n",
    "\n",
    "    return chunks\n",
    "\n",
    "def scrape_and_extract(url):\n",
    "    \"\"\"Scrape the webpage content.\"\"\"\n",
    "    try:\n",
    "        headers = {\n",
    "    \"User-Agent\": \"Mozilla/5.0 (Windows NT 10.0; Win64; x64) AppleWebKit/537.36 (KHTML, like Gecko) Chrome/91.0.4472.124 Safari/537.36\"\n",
    "}\n",
    "        response = requests.get(url, headers=headers)\n",
    "        response.raise_for_status()  # Raise an error for bad status codes\n",
    "        return response.text\n",
    "    except requests.RequestException as e:\n",
    "        print(f\"Error fetching {url}: {e}\")\n",
    "        return None\n",
    "\n",
    "def clean_text(text):\n",
    "    \"\"\"\n",
    "    Cleans extracted web content by:\n",
    "    - Removing HTML tags\n",
    "    - Replacing multiple spaces/newlines/tabs with a single space\n",
    "    - Stripping leading/trailing whitespace\n",
    "    \"\"\"\n",
    "    if not text:\n",
    "        return \"\"\n",
    "\n",
    "    # Remove HTML tags using BeautifulSoup\n",
    "    soup = BeautifulSoup(text, \"html.parser\")\n",
    "    text = soup.get_text()\n",
    "\n",
    "    # Remove extra spaces, newlines, and tabs\n",
    "    text = re.sub(r\"\\s+\", \" \", text)\n",
    "\n",
    "    return text.strip()\n",
    "\n",
    "def get_URLs(test_name):\n",
    "    \"\"\"Search the web, scrape results, and generate an LLM response.\"\"\"\n",
    "    search_query = f\"How to interpret {test_name} report\"\n",
    "\n",
    "    payload = json.dumps({\n",
    "        \"q\": search_query,\n",
    "        \"num\": 2\n",
    "    })\n",
    "    headers = {\n",
    "    'X-API-KEY': SERPER_API_KEY,\n",
    "    'Content-Type': 'application/json'\n",
    "    }\n",
    "    url = \"https://google.serper.dev/search\"\n",
    "    response = requests.request(\"POST\", url, headers=headers, data=payload) \n",
    "    data = json.loads(response.text)\n",
    "    \n",
    "    # Extract URLs from the \"organic\" search results\n",
    "    urls = [entry[\"link\"] for entry in data.get(\"organic\", [])]\n",
    "\n",
    "    return urls"
   ]
  },
  {
   "cell_type": "code",
   "execution_count": 29,
   "metadata": {},
   "outputs": [
    {
     "name": "stdout",
     "output_type": "stream",
     "text": [
      "['\\n\\n- Dengue hemorrhagic fever (DHF) is defined by four clinical criteria: fever, hemorrhagic tendency (spontaneous bleeding or a positive tourniquet test result), thrombocytopenia (platelet count ≤100,000 cells/mm³), and plasma leakage (pleural effusion, ascites, or ≥20% hemoconcentration).  \\n- The diagnosis of DHF does not require laboratory evidence of dengue virus infection.  \\n- The 2009 World Health Organization (WHO) classification replaced the previous dengue fever (DF) and DHF categories with \"dengue\" and \"severe dengue.\"  \\n- Severe dengue is defined as dengue with plasma leakage leading to shock or respiratory distress, severe bleeding, or organ failure (e.g., elevated liver enzyme levels, impaired consciousness, or heart failure).  \\n- The previous DHF classification was based on objective findings, while the 2009 classification relies more on clinical judgment and severity.  \\n- The tourniquet test was used as a screening tool for DHF in some settings.', '\\n\\n- **IgM Antibody Testing**: \\n  - Recommended in combination with nucleic acid amplification tests (NAAT) or NS1 antigen tests during the first 7 days of illness.\\n  - IgM levels become positive 4–5 days after symptom onset and remain detectable for approximately 12 weeks.\\n  - IgM testing can identify dengue infections but may cross-react with other flaviviruses.\\n\\n- **MAC-ELISA (IgM Antibody Capture Enzyme-Linked Immunosorbent Assay)**:\\n  - Qualitatively detects IgM antibodies against dengue virus using antigens from the envelope proteins of all four dengue serotypes.\\n  - Combined testing with NAAT is recommended for early diagnosis.\\n  - A convalescent phase specimen may be needed if acute results are negative.\\n  - Not useful for serotype determination.\\n\\n- **Specimen Types**:\\n  - Serum, cerebrospinal fluid (CSF), plasma, and whole blood (though CSF is only recommended for encephalitic cases).\\n\\n- **Interpretation of Results**:\\n  - Positive IgM: Indicates presumptive recent infection.\\n  - Negative IgM: If negative between days 0–7, a second sample is needed after day 7. Negative results after 7 days suggest no recent infection.\\n  - Seroconversion (from negative to positive IgM in paired samples) confirms current infection.\\n  - IgG testing is not recommended for acute diagnosis as it indicates past infection.\\n\\n- **Cross-Reactivity**:\\n  - IgM and IgG results may be difficult to interpret due to cross-reactivity with other flaviviruses.\\n  - Presumed positive or equivocal IgM results may require confirmation with Plaque Reduction Neutralization Testing (PRNT).\\n\\n- **Plaque Reduction Neutralization Test (PRNT)**:\\n  - Measures specific neutralizing antibodies to confirm infection, especially when other flaviviruses like Zika are a concern.\\n  - Useful for confirming recent infection when paired acute and convalescent samples show seroconversion.\\n\\nThis information aids in interpreting dengue test results, understanding test limitations, and guiding clinical decision-making.', '\\n\\nFor residents living in areas with dengue and Zika virus circulation, or for travelers with multiple long-term exposures, PRNT and microneutralization tests may have less utility in differentiating flavivirus infections. Clinicians should contact local health departments to find out the usefulness and availability of PRNT testing as a confirmatory test for IgM positive cases.\\n\\n**Interpretation of results:**\\n\\n- **PRNT on a dengue IgM-positive specimen:**  \\n  - Neutralizing antibodies to only one dengue virus serotype confirm recent infection with that serotype.  \\n  - Seroconversion from a negative PRNT in an acute sample to a positive PRNT with antibodies to only one dengue virus serotype in a convalescent sample confirms recent infection with that serotype.  \\n  - A 4-fold rise in PRNT titers in paired acute and convalescent samples with antibodies to multiple dengue virus serotypes or other flaviviruses in the convalescent sample indicates a recent flavivirus infection.  \\n\\n- **Single dengue IgM-positive specimen:**  \\n  - May show neutralizing antibody titers for dengue, Zika, and other flaviviruses included in the test. These results are classified as a recent flavivirus infection.  \\n  - Cases may be re-classified as another flavivirus, such as Zika, according to PRNT results.  \\n\\n- **Negative PRNT or microneutralization results:**  \\n  - On a dengue IgM-positive sample during acute illness may indicate no detectable neutralizing activity.  \\n  - An IgM positive result remains presumptive in the absence of other confirmatory tests (PRNT, microneutralization tests, NS1 or NAAT).  \\n\\n**Availability:**  \\n- PRNT and microneutralization tests are performed at CDC or a laboratory designated by CDC.  \\n- Public health laboratories may refer IgM-positive specimens to CDC for PRNT to confirm positive, equivocal, or inconclusive IgM results.  \\n- In some resource-limited countries, PRNTs and microneutralization tests may not be available.  \\n\\n**Specimen types:**  \\n- Serum  \\n- CSF']\n"
     ]
    }
   ],
   "source": [
    "\n",
    "def get_interpretations_list(test_name,urls):\n",
    "    \n",
    "    extracted_texts = []\n",
    "    for url in urls:\n",
    "            content = scrape_and_extract(url)\n",
    "            if content:\n",
    "                cleaned_text = clean_text(content)\n",
    "                extracted_texts.append(cleaned_text)\n",
    "\n",
    "    web_content = \"\\n\\n\".join(extracted_texts)\n",
    "    web_content_chunks = chunk_text(web_content)\n",
    "\n",
    "    responses = []\n",
    "    for i in range(len(web_content_chunks)):\n",
    "        messages = [\n",
    "            SystemMessage(content=\"You are a medical expert providing the relavent content from the given one.\"),\n",
    "            HumanMessage(content=f\"\"\"Based on the following information:\\n\\n{web_content_chunks[i]}\\n\\n extract the information\n",
    "        that can help in interpreting the medical report related to {test_name} (test). Don't type \n",
    "        anything else. Just provide the relavent information from the content nothing else, if there\n",
    "        is nothing relevant then just response with there is nothing helpful but dont type anything from your knowledge.\"\"\")\n",
    "        ]\n",
    "        # message = f\"\"\"You are a medical expert providing the relavent content from the given one.\n",
    "        # Based on the following information:\\n\\n{web_content_chunks[i]}\\n\\n extract the information\n",
    "        # that can help in interpreting the medical report related to {test_name} (test). Don't type \n",
    "        # anything irrelevant. Just provide the relavent information from the content.\"\"\"\n",
    "        # print(len(message))\n",
    "\n",
    "        response = chat2(messages)\n",
    "        response = remove_tags(response.content)\n",
    "        responses.append(response)\n",
    "        \n",
    "    return responses\n",
    "\n",
    "# Example Usage\n",
    "test_name = \"Dengue Hemorrhagic Fever\"\n",
    "urlss = get_URLs(test_name)\n",
    "interpretation = get_interpretations_list(test_name,urlss)\n",
    "print(interpretation)\n"
   ]
  },
  {
   "cell_type": "code",
   "execution_count": 31,
   "metadata": {},
   "outputs": [
    {
     "name": "stdout",
     "output_type": "stream",
     "text": [
      "4969\n"
     ]
    }
   ],
   "source": [
    "z = 0\n",
    "for i in range(len(interpretation)):\n",
    "    # print(i, \"---\", interpretation[i])\n",
    "    z = z + int(len(interpretation[i]))\n",
    "print(z)"
   ]
  },
  {
   "cell_type": "code",
   "execution_count": 63,
   "metadata": {},
   "outputs": [],
   "source": [
    "def summarize_web_content(list_of_interpretations, test_name):\n",
    "    \"\"\"Summarize the interpretations.\"\"\"\n",
    "    # Join the interpretations into a single string\n",
    "    interpretations = \"\".join(list_of_interpretations)\n",
    "    chain = chat | StrOutputParser()\n",
    "\n",
    "    prompt = f\"\"\"You are a medical expert summarize the provided content to the max of 1000 words\n",
    "    that can be helpful in interpreting the medical report related to {test_name} (test).Make sure that\n",
    "    the length of summarization not exceed 1000 words.\n",
    "    content: {interpretations}\"\"\"\n",
    "\n",
    "    response = chain.invoke(prompt)\n",
    "    response = remove_tags(response)\n",
    "    return response"
   ]
  },
  {
   "cell_type": "code",
   "execution_count": 64,
   "metadata": {},
   "outputs": [],
   "source": [
    "texttt = summarize_web_content(interpretation, test_name)"
   ]
  },
  {
   "cell_type": "code",
   "execution_count": 65,
   "metadata": {},
   "outputs": [
    {
     "data": {
      "text/plain": [
       "'\\n\\n### Summary of Dengue Hemorrhagic Fever (DHF) and Diagnostic Interpretation\\n\\nDengue Hemorrhagic Fever (DHF) is a severe form of dengue infection characterized by four key clinical criteria: fever, hemorrhagic tendency, thrombocytopenia (platelet count ≤100,000 cells/mm³), and plasma leakage (evidenced by pleural effusion, ascites, or ≥20% hemoconcentration). The diagnosis of DHF does not require laboratory confirmation of dengue virus infection, as it is primarily based on clinical findings. However, the 2009 World Health Organization (WHO) classification simplified the categorization of dengue infections into \"dengue\" and \"severe dengue,\" with severe dengue defined by plasma leakage leading to shock or respiratory distress, severe bleeding, or organ failure.\\n\\n#### Diagnostic Tests for Dengue Infection\\n\\n1. **IgM Antibody Testing**:\\n   - IgM antibodies are recommended for use in combination with nucleic acid amplification tests (NAAT) or NS1 antigen tests during the first 7 days of illness.\\n   - IgM antibodies typically become detectable 4–5 days after symptom onset and remain positive for approximately 12 weeks.\\n   - While IgM testing can identify dengue infections, it may cross-react with other flaviviruses, leading to potential false positives.\\n\\n2. **MAC-ELISA (IgM Antibody Capture Enzyme-Linked Immunosorbent Assay)**:\\n   - This test qualitatively detects IgM antibodies against dengue virus using antigens from the envelope proteins of all four dengue serotypes.\\n   - Combined testing with NAAT is recommended for early diagnosis, as MAC-ELISA alone may not provide sufficient sensitivity.\\n   - A convalescent phase specimen may be required if acute phase results are negative, as IgM levels may not yet be detectable.\\n   - MAC-ELISA is not useful for determining the specific dengue serotype responsible for the infection.\\n\\n3. **Specimen Types**:\\n   - Serum is the most commonly used specimen type for dengue testing.\\n   - Cerebrospinal fluid (CSF) may be used in cases of suspected encephalitis.\\n   - Plasma and whole blood are also acceptable specimen types, though CSF is typically reserved for specific clinical scenarios.\\n\\n#### Interpretation of Test Results\\n\\n1. **IgM Antibody Results**:\\n   - A positive IgM result indicates presumptive recent infection with dengue virus.\\n   - A negative IgM result during the first 7 days of illness does not rule out infection, as IgM antibodies may not yet be detectable. A second sample should be collected after day 7 for further testing.\\n   - Seroconversion (the transition from negative to positive IgM results in paired acute and convalescent samples) confirms recent dengue infection.\\n   - IgG testing is not recommended for acute diagnosis, as it indicates past infection rather than recent exposure.\\n\\n2. **Cross-Reactivity**:\\n   - IgM and IgG results may be difficult to interpret due to cross-reactivity with other flaviviruses, such as Zika virus.\\n   - Presumed positive or equivocal IgM results may require confirmation using Plaque Reduction Neutralization Testing (PRNT).\\n\\n3. **Plaque Reduction Neutralization Test (PRNT)**:\\n   - PRNT measures specific neutralizing antibodies to confirm recent dengue infection, particularly in cases where other flaviviruses are a concern.\\n   - Paired acute and convalescent samples showing seroconversion (from negative to positive PRNT results) confirm recent infection.\\n   - A four-fold rise in PRNT titers in paired samples indicates recent flavivirus infection, though it may not be specific to dengue.\\n\\n#### Availability and Limitations\\n\\n- **PRNT and Microneutralization Tests**:\\n  - These tests are typically performed at the Centers for Disease Control and Prevention (CDC) or CDC-designated laboratories.\\n  - Public health laboratories may refer IgM-positive specimens to the CDC for PRNT to confirm results.\\n  - In resource-limited settings, PRNT and microneutralization tests may not be available, limiting their utility in confirming dengue infections.\\n\\n- **Specimen Types for PRNT**:\\n  - Serum is the most commonly used specimen type for PRNT.\\n  - CSF may be used in cases of suspected encephalitis.\\n\\n#### Clinical Implications and Decision-Making\\n\\n- **Interpretation of Results**:\\n  - A positive IgM result on a single specimen may indicate recent flavivirus infection but cannot differentiate between dengue and other flaviviruses like Zika.\\n  - Negative PRNT or microneutralization results on an IgM-positive sample do not rule out recent infection, as neutralizing antibodies may not be detectable during the acute phase.\\n\\n- **Guidance for Clinicians**:\\n  - Clinicians should contact local health departments to determine the availability and utility of PRNT testing for confirmatory diagnosis.\\n  - In areas where multiple flaviviruses are circulating, such as dengue and Zika, PRNT may have limited utility in differentiating between infections due to cross-reactivity.\\n\\n#### Conclusion\\n\\nUnderstanding the diagnostic tests and their limitations is critical for accurate interpretation of dengue test results and effective clinical decision-making. While IgM antibody testing and MAC-ELISA are valuable tools for identifying recent dengue infections, cross-reactivity with other flaviviruses and the need for confirmatory testing (e.g., PRNT) must be considered. Clinicians should use a combination of clinical judgment, laboratory results, and epidemiological context to guide patient care and management.'"
      ]
     },
     "execution_count": 65,
     "metadata": {},
     "output_type": "execute_result"
    }
   ],
   "source": [
    "texttt"
   ]
  },
  {
   "cell_type": "code",
   "execution_count": 66,
   "metadata": {},
   "outputs": [
    {
     "data": {
      "text/plain": [
       "5442"
      ]
     },
     "execution_count": 66,
     "metadata": {},
     "output_type": "execute_result"
    }
   ],
   "source": [
    "len(texttt)"
   ]
  },
  {
   "cell_type": "code",
   "execution_count": null,
   "metadata": {},
   "outputs": [],
   "source": [
    "\n",
    "def generate_refined_prompt(query,type,disease):\n",
    "    \n",
    "    # Construct prompt\n",
    "    prompt = f\"\"\"You are an expert doctor. I have provided the test type, \n",
    "    the suspected disease (if mentioned by the patient), and the lab report. Since the lab report \n",
    "    primarily consists of numerical values, retrieving relevant context from my RAG system is challenging.\n",
    "    Your task is to generate a maximum of 200-300 words textual summary that best represents this report,\n",
    "    incorporating key abnormalities or notable findings. Provide 2 descriptions which are inside the     \n",
    "    <p>*</p> tag (don't use any other mode for separating them). This summary will be used to fetch the \n",
    "    most relevant medical context from my RAG, which, along with the report, will help the LLM provide an \n",
    "    accurate interpretation.\n",
    "\n",
    "    For your information so that you can write the desrciption in a familiar way, the data i have scrapped \n",
    "    is from Testing.com, medlinplus.com and some books.\n",
    "    Don't write anything else, other than the relavant interpretation.\n",
    "    :\n",
    "    \n",
    "    Type: {type}\n",
    "    Diesease: {disease}\n",
    "    Report: {query}\n",
    "        \n",
    "    Answer:\n",
    "    \"\"\"\n",
    "    \n",
    "    chain = chat | StrOutputParser()\n",
    "    \n",
    "    response = chain.invoke(prompt)\n",
    "    response = remove_tags(response)\n",
    "    response = only_p_tags(response)\n",
    "    return response # returns the list of 2 description"
   ]
  },
  {
   "cell_type": "code",
   "execution_count": null,
   "metadata": {},
   "outputs": [],
   "source": [
    "\n",
    "def discard_irrelevant_context(test_name,normal_ranges,retrieved_context,report):\n",
    "    \n",
    "    # Construct prompt\n",
    "    prompt = f\"\"\"You are an expert doctor. Your task is to extract only the most relevant \n",
    "    information from the provided medical context and discard anything unrelated.  \n",
    "\n",
    "### Given Information:\n",
    "- **Test Type:** {test_name}  \n",
    "- **Medical Report:** {report}  \n",
    "- **Normal Ranges:** {normal_ranges}  \n",
    "- **Retrieved Context:** {retrieved_context}  \n",
    "\n",
    "### Instructions:\n",
    "- Read the retrieved context carefully.  \n",
    "- Identify the information that is directly relevant to the test {test_name} and the provided ranges (only\n",
    " consider the provided ranges if the normal ranges are not present in the test report, otherwise consider the provided ones).  \n",
    "- Extract only the relevant paragraphs and discard anything that is not directly related.  \n",
    "- Ensure that the extracted content provides useful insights about the given test.  \n",
    "\n",
    "### Output Format:\n",
    "Return the **filtered context** as clean paragraphs that are relevant to {test_name}. Do not include any unrelated information, just provide the paragraphs nothing else.  \n",
    "\n",
    "\"\"\"\n",
    "    \n",
    "    chain = chat | StrOutputParser()\n",
    "    \n",
    "    response = chain.invoke(prompt)\n",
    "    response = remove_tags(response)\n",
    "    return response # final paragraphs"
   ]
  },
  {
   "cell_type": "code",
   "execution_count": null,
   "metadata": {},
   "outputs": [],
   "source": [
    "# memory = ConversationBufferMemory()\n",
    "# conversation = ConversationChain(\n",
    "#     llm=chat2,\n",
    "#     memory=memory\n",
    "# )"
   ]
  },
  {
   "cell_type": "code",
   "execution_count": null,
   "metadata": {},
   "outputs": [],
   "source": [
    "\n",
    "def generate_final_output(report,type,disease,generated_text,context):\n",
    "    \n",
    "    \n",
    "    # Construct prompt\n",
    "    prompt = f\"\"\"You are a expert doctor. You have to interpret the medical lab report of the patient. I have provided \n",
    "    you the lab report, the test type, the disease which the patient thinks he is suffereing from and some context which may assist you in interpreting the report.\n",
    "    Interpret the report in layman understandable form in just 2 lines, not more than that and donot write anything else other than the interpretation. If you think that\n",
    "    the disease he thinks he is suffering from do not match the report, you can mention that as well and recommend the possible diseases.In case the Context is not benificial,\n",
    "    you can ignore it and answer from your own knowledge. Also score your answer out of 10, but just the number in the markdown form, nothing else. The answer should not be more than 2 to 3 lines.\n",
    "    :\n",
    "        \n",
    "    Context: {context}\n",
    "    Type: {type}\n",
    "    Disease: {disease}\n",
    "    Report: {report}\n",
    "    Random Context (it can be wrong): {generated_text}\n",
    "    Answer:\n",
    "    \"\"\"\n",
    "    \n",
    "    chain = chat | StrOutputParser()\n",
    "    \n",
    "    response = chain.invoke(prompt)\n",
    "    response = remove_tags(response)\n",
    "    return response\n"
   ]
  },
  {
   "cell_type": "code",
   "execution_count": null,
   "metadata": {},
   "outputs": [],
   "source": [
    "test_name = \" Dengue Hemorrhagic Fever \"\n",
    "disease = \"dengue\"\n",
    "\n",
    "report = '''Characteristic\tDF¹ (%)\tDHF¹ (%)\tN\tp-value²\n",
    "Demographics\t\t\t\t\n",
    "Age (median ± interquartile range)\t26.0 ± 19.0\t24.5 ± 18.0\t201\t0.905\n",
    "Gender\t\t\t\t\n",
    "Male\t99 (61.5)\t30 (75.0)\t201\t0.077\n",
    "Female\t62 (38.5)\t10 (25.0)\t\t\n",
    "Clinical Presentation\t\t\t\t\n",
    "Fever\t159/161 (98.8)\t39/39 (100.0)\t200\t0.647\n",
    "Nausea and/or vomiting\t93/161 (57.8)\t27/40 (67.5)\t201\t0.173\n",
    "Rash\t44/161 (27.3)\t31/40 (77.5)\t201\t<0.001\n",
    "Abdominal Pain\t6/86 (7.0)\t1/11 (9.1)\t97\t0.582\n",
    "Diarrhea\t26/161 (16.2)\t5/40 (12.5)\t201\t0.384\n",
    "Myalgia\t46/161 (28.6)\t6/40 (15.0)\t201\t0.056\n",
    "Headache\t21/161 (13.0)\t2/40 (5.0)\t201\t0.120\n",
    "Cough\t22/161 (13.7)\t1/40 (2.5)\t201\t0.033\n",
    "Hemorrhage\t6/161 (3.7)\t29/40 (72.5)\t201\t<0.001\n",
    "Temperature (median)\t38.00 ± 2.00\t37.00 ± 1.00\t177\t0.014\n",
    "Laboratory Findings\t\t\t\t\n",
    "Thrombocytopenia at presentation\t116/151 (76.8)\t36/40 (90.0)\t191\t0.047\n",
    "Received platelet transfusion\t25/90 (27.8)\t13/32 (40.6)\t122\t0.131\n",
    "Low Hemoglobin\t16/137 (11.7)\t8/37 (21.6)\t174\t0.102\n",
    "Hematocrit level on admission (median)\t39.50 ± 6.75\t40.40 ± 8.80\t167\t0.607\n",
    "Leukopenia\t64/141 (45.4)\t9/37 (24.3)\t178\t0.015\n",
    "Neutropenia\t35/133 (26.3)\t16/34 (47.1)\t167\t0.018\n",
    "Lymphocytosis\t30/132 (22.7)\t7/33 (21.2)\t165\t0.529\n",
    "Monocytosis\t32/122 (26.2)\t19/33 (57.6)\t155\t0.001\n",
    "Raised ALT\t63/110 (57.3)\t27/32 (84.4)\t142\t0.004\n",
    "Raised AST\t68/79 (86.1)\t25/26 (96.2)\t105\t0.147'''\n"
   ]
  },
  {
   "cell_type": "code",
   "execution_count": null,
   "metadata": {},
   "outputs": [],
   "source": [
    "generated_text = generate_refined_prompt(report,test_name,disease) # list of 2 descriptions\n",
    "print(\"Generated text: \",generated_text)\n",
    "retrieved_content = retrieve_context(generated_text)\n",
    "print(\"Retrieved content: \",retrieved_content)\n",
    "unique_content = get_unique_content_only(retrieved_content)\n",
    "print(\"Unique content: \",unique_content)\n",
    "context = discard_irrelevant_context(test_name,None,unique_content,report)\n",
    "print(\"Context: \",context)\n",
    "response = generate_final_output(report,test_name,disease,generated_text,context)\n",
    "print(\"Response: \",response)"
   ]
  },
  {
   "cell_type": "code",
   "execution_count": null,
   "metadata": {},
   "outputs": [],
   "source": [
    "# 22.6 / 15.0 / 18.2\n",
    "# 10\n",
    "# 4.5\n",
    "# 4.4\n",
    "# 2.7"
   ]
  },
  {
   "cell_type": "code",
   "execution_count": null,
   "metadata": {},
   "outputs": [],
   "source": [
    "# report = \"\"\"Complete Blood Count (CBC) Report\n",
    "# Test\tResult\tReference Range\tUnits\tFlag\n",
    "# White Blood Cell Count (WBC)\t7.5\t4.0 - 11.0\tx10³/μL\tNormal\n",
    "# Red Blood Cell Count (RBC)\t3\t4.5 - 5.9\tx10⁶/μL\tAbnormal\n",
    "# Hemoglobin (Hgb)\t15.0\t13.5 - 17.5\tg/dL\tNormal\n",
    "# Hematocrit (Hct)\t45\t40 - 52\t%\tNormal\n",
    "# Mean Corpuscular Volume (MCV)\t88\t80 - 100\tfL\tNormal\n",
    "# Mean Corpuscular Hemoglobin (MCH)\t29\t27 - 34\tpg\tNormal\n",
    "# Mean Corpuscular Hemoglobin Concentration (MCHC)\t34\t32 - 36\tg/dL\tNormal\n",
    "# Red Cell Distribution Width (RDW)\t13.5\t11.5 - 14.5\t%\tNormal\n",
    "# Platelet Count\t250\t150 - 450\tx10³/μL\tNormal\n",
    "# Neutrophils\t35\t40 - 70\t%\tAbnormal\n",
    "# Lymphocytes\t10\t20 - 40\t%\tAbnormal\n",
    "# Monocytes\t6\t2 - 10\t%\tNormal\n",
    "# Eosinophils\t3\t1 - 4\t%\tNormal\n",
    "# Basophils\t1\t0 - 2\t%\tNormal\"\"\""
   ]
  }
 ],
 "metadata": {
  "kernelspec": {
   "display_name": ".venv",
   "language": "python",
   "name": "python3"
  },
  "language_info": {
   "codemirror_mode": {
    "name": "ipython",
    "version": 3
   },
   "file_extension": ".py",
   "mimetype": "text/x-python",
   "name": "python",
   "nbconvert_exporter": "python",
   "pygments_lexer": "ipython3",
   "version": "3.11.8"
  }
 },
 "nbformat": 4,
 "nbformat_minor": 2
}
