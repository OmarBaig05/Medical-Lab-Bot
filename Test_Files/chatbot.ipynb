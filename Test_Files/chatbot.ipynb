{
 "cells": [
  {
   "cell_type": "code",
   "execution_count": null,
   "metadata": {},
   "outputs": [
    {
     "name": "stderr",
     "output_type": "stream",
     "text": [
      "e:\\D\\Work\\Projects\\Medical Lab Bot\\Test_Files\\.venv\\Lib\\site-packages\\pinecone\\data\\index.py:1: TqdmWarning: IProgress not found. Please update jupyter and ipywidgets. See https://ipywidgets.readthedocs.io/en/stable/user_install.html\n",
      "  from tqdm.autonotebook import tqdm\n"
     ]
    }
   ],
   "source": [
    "import dotenv\n",
    "import os\n",
    "import requests\n",
    "import json\n",
    "import re\n",
    "import tiktoken\n",
    "from bs4 import BeautifulSoup\n",
    "from pinecone import Pinecone\n",
    "from langchain_groq import ChatGroq\n",
    "from langchain_core.output_parsers import StrOutputParser\n",
    "from sentence_transformers import SentenceTransformer\n",
    "from langchain.memory import ConversationBufferMemory\n",
    "from langchain.chains import ConversationChain\n",
    "from langchain.schema import SystemMessage, HumanMessage\n",
    "\n",
    "dotenv.load_dotenv(\".env\")\n",
    "PINECONE_API_KEY = os.getenv(\"PINECONE_API_KEY\")    \n",
    "GROQ_API_KEY = os.getenv(\"GROQ_API_KEY\")\n",
    "SERPER_API_KEY = os.getenv(\"SERPER_API_KEY\")"
   ]
  },
  {
   "cell_type": "code",
   "execution_count": 3,
   "metadata": {},
   "outputs": [],
   "source": [
    "url = \"https://google.serper.dev/search\""
   ]
  },
  {
   "cell_type": "code",
   "execution_count": 4,
   "metadata": {},
   "outputs": [
    {
     "data": {
      "text/plain": [
       "<pinecone.data.index.Index at 0x21aebbe6050>"
      ]
     },
     "execution_count": 4,
     "metadata": {},
     "output_type": "execute_result"
    }
   ],
   "source": [
    "pc = Pinecone(api_key=PINECONE_API_KEY)\n",
    "index_name = \"medical-data\"\n",
    "# index_name = \"medicalbot-vdb\"\n",
    "index = pc.Index(index_name)\n",
    "index"
   ]
  },
  {
   "cell_type": "code",
   "execution_count": 5,
   "metadata": {},
   "outputs": [],
   "source": [
    "embedding_model = SentenceTransformer(\"sentence-transformers/msmarco-bert-base-dot-v5\")"
   ]
  },
  {
   "cell_type": "code",
   "execution_count": 6,
   "metadata": {},
   "outputs": [],
   "source": [
    "def remove_tags(text):\n",
    "    pattern = re.compile(r'<think>.*?</think>', re.DOTALL)\n",
    "    cleaned_text = re.sub(pattern, '', text)\n",
    "    return cleaned_text\n",
    "\n",
    "def only_p_tags(text):\n",
    "    descriptions = re.findall(r\"<p>(.*?)</p>\", text)\n",
    "    return descriptions\n",
    "\n",
    "\n",
    "def get_unique_content_only(results):\n",
    "    \n",
    "    context = ''\n",
    "    for search_result in results: \n",
    "        for match in search_result[\"matches\"]:\n",
    "            if match['metadata']['text'] not in context:\n",
    "                context += f\"- {match['metadata']['text']}\\n\"\n",
    "    return context\n",
    "\n",
    "def retrieve_context(description):\n",
    "    results = []\n",
    "\n",
    "    for i in range(len(description)):\n",
    "        query_vector = embedding_model.encode(description[i]).tolist()\n",
    "        search_results = index.query(vector=query_vector, top_k=5, include_metadata=True)\n",
    "        results.append(search_results)\n",
    "    return results\n",
    "\n",
    "    "
   ]
  },
  {
   "cell_type": "code",
   "execution_count": 7,
   "metadata": {},
   "outputs": [],
   "source": [
    "test_name = \"CBC\"\n",
    "disease = \"Dengue\"\n",
    "\n",
    "report = \"\"\"Hemoglobin (Hb)\t12.5 g/dL\t13.0 - 17.0 g/dL (M) / 12.0 - 15.0 g/dL (F)\n",
    "Hematocrit (Hct)\t38%\t38 - 50% (M) / 36 - 44% (F)\n",
    "White Blood Cell (WBC) Count\t3,000 cells/µL\t4,000 - 11,000 cells/µL\n",
    "Neutrophils\t35%\t40 - 75%\n",
    "Lymphocytes\t55%\t20 - 40%\n",
    "Platelet Count\t75,000 cells/µL\t150,000 - 450,000 cells/µL\n",
    "Mean Platelet Volume (MPV)\t10.5 fL\t7.5 - 12.0 fL\"\"\""
   ]
  },
  {
   "cell_type": "code",
   "execution_count": 8,
   "metadata": {},
   "outputs": [],
   "source": [
    "model_name = \"deepseek-r1-distill-llama-70b\"\n",
    "# model_name = \"llama-3.3-70b-versatile\"\n",
    "# model_name = \"qwen-2.5-32b\"\n",
    "\n",
    "\n",
    "chat = ChatGroq(\n",
    "api_key = GROQ_API_KEY,\n",
    "model_name = model_name\n",
    ")"
   ]
  },
  {
   "cell_type": "code",
   "execution_count": 9,
   "metadata": {},
   "outputs": [],
   "source": [
    "model2 = \"deepseek-r1-distill-llama-70b\"\n",
    "\n",
    "chat2 = ChatGroq(\n",
    "api_key = GROQ_API_KEY,\n",
    "model_name = model2\n",
    ")   \n",
    "\n",
    "tokenizer = tiktoken.get_encoding(\"cl100k_base\")  # Adjust for your LLM"
   ]
  },
  {
   "cell_type": "code",
   "execution_count": 10,
   "metadata": {},
   "outputs": [],
   "source": [
    "def chunk_text(text, max_tokens=4500):\n",
    "    \"\"\"Splits text into token-based chunks without cutting sentences abruptly.\"\"\"\n",
    "    \n",
    "    words = text.split()\n",
    "\n",
    "    chunks = []\n",
    "    current_chunk = []\n",
    "    token_count = 0\n",
    "\n",
    "    for word in words:\n",
    "        word_tokens = len(tokenizer.encode(word))  # Get token count for each word\n",
    "\n",
    "        if token_count + word_tokens > max_tokens:\n",
    "            chunks.append(\" \".join(current_chunk))\n",
    "            current_chunk = []\n",
    "            token_count = 0\n",
    "\n",
    "        current_chunk.append(word)\n",
    "        token_count += word_tokens\n",
    "\n",
    "    if current_chunk:\n",
    "        chunks.append(\" \".join(current_chunk))\n",
    "\n",
    "    return chunks\n",
    "\n",
    "def scrape_and_extract(url):\n",
    "    \"\"\"Scrape the webpage content.\"\"\"\n",
    "    try:\n",
    "        headers = {\n",
    "    \"User-Agent\": \"Mozilla/5.0 (Windows NT 10.0; Win64; x64) AppleWebKit/537.36 (KHTML, like Gecko) Chrome/91.0.4472.124 Safari/537.36\"\n",
    "}\n",
    "        response = requests.get(url, headers=headers)\n",
    "        response.raise_for_status()  # Raise an error for bad status codes\n",
    "        return response.text\n",
    "    except requests.RequestException as e:\n",
    "        print(f\"Error fetching {url}: {e}\")\n",
    "        return None\n",
    "\n",
    "def clean_text(text):\n",
    "    \"\"\"\n",
    "    Cleans extracted web content by:\n",
    "    - Removing HTML tags\n",
    "    - Replacing multiple spaces/newlines/tabs with a single space\n",
    "    - Stripping leading/trailing whitespace\n",
    "    \"\"\"\n",
    "    if not text:\n",
    "        return \"\"\n",
    "\n",
    "    # Remove HTML tags using BeautifulSoup\n",
    "    soup = BeautifulSoup(text, \"html.parser\")\n",
    "    text = soup.get_text()\n",
    "\n",
    "    # Remove extra spaces, newlines, and tabs\n",
    "    text = re.sub(r\"\\s+\", \" \", text)\n",
    "\n",
    "    return text.strip()\n",
    "\n",
    "def get_URLs(test_name):\n",
    "    \"\"\"Search the web, scrape results, and generate an LLM response.\"\"\"\n",
    "    search_query = f\"How to interpret {test_name} report\"\n",
    "\n",
    "    payload = json.dumps({\n",
    "        \"q\": search_query,\n",
    "        \"num\": 2\n",
    "    })\n",
    "    headers = {\n",
    "    'X-API-KEY': SERPER_API_KEY,\n",
    "    'Content-Type': 'application/json'\n",
    "    }\n",
    "    url = \"https://google.serper.dev/search\"\n",
    "    response = requests.request(\"POST\", url, headers=headers, data=payload) \n",
    "    data = json.loads(response.text)\n",
    "    \n",
    "    # Extract URLs from the \"organic\" search results\n",
    "    urls = [entry[\"link\"] for entry in data.get(\"organic\", [])]\n",
    "\n",
    "    return urls"
   ]
  },
  {
   "cell_type": "code",
   "execution_count": 11,
   "metadata": {},
   "outputs": [
    {
     "name": "stderr",
     "output_type": "stream",
     "text": [
      "C:\\Users\\omarb\\AppData\\Local\\Temp\\ipykernel_7896\\3512851597.py:28: LangChainDeprecationWarning: The method `BaseChatModel.__call__` was deprecated in langchain-core 0.1.7 and will be removed in 1.0. Use :meth:`~invoke` instead.\n",
      "  response = chat2(messages)\n"
     ]
    },
    {
     "name": "stdout",
     "output_type": "stream",
     "text": [
      "[\"\\n\\n### Interpretation of CBC Medical Report\\n\\n#### Components of CBC and Their Normal Ranges:\\n\\n1. **White Blood Cells (WBC):**\\n   - **Normal Range:** 4,000 to 10,000 cells per microliter (mcL) or 4.0 to 10 k/mcL.\\n   - **Significance:** Helps fight infections. High levels may indicate infection or inflammation; low levels may suggest increased infection risk or conditions like viral infections or bone marrow disorders.\\n\\n2. **Red Blood Cells (RBC):**\\n   - **Normal Range:** \\n     - Females: 4.0 to 5.4 million cells/mcL.\\n     - Males: 4.5 to 6.1 million cells/mcL.\\n   - **Significance:** Transports oxygen. Low levels may indicate anemia; high levels could suggest dehydration or conditions like polycythemia vera.\\n\\n3. **Hemoglobin (Hb):**\\n   - **Normal Range:** \\n     - Females: 11.5 to 15.5 g/dL.\\n     - Males: 13 to 17 g/dL.\\n   - **Significance:** Protein in RBCs that carries oxygen. Low levels are associated with anemia.\\n\\n4. **Hematocrit (Hct):**\\n   - **Normal Range:** \\n     - Females: 36% to 48%.\\n     - Males: 40% to 55%.\\n   - **Significance:** Percentage of blood made up by RBCs. Low levels may indicate anemia; high levels could suggest dehydration or polycythemia.\\n\\n5. **Mean Corpuscular Volume (MCV):**\\n   - **Normal Range:** 80 to 100 femtoliters (fL).\\n   - **Significance:** Average size of RBCs. Helps classify anemia (microcytic, normocytic, macrocytic).\\n\\n6. **Mean Corpuscular Hemoglobin (MCH):**\\n   - **Normal Range:** 27 to 31 picograms (pg) per cell.\\n   - **Significance:** Average hemoglobin content in RBCs, useful in diagnosing anemia.\\n\\n7. **Mean Corpuscular Hemoglobin Concentration (MCHC):**\\n   - **Normal Range:** 32 to 36 g/dL.\\n   - **Significance:** Average concentration of hemoglobin in RBCs, aiding in anemia diagnosis.\\n\\n8. **Red Cell Distribution Width (RDW):**\\n   - **Normal Range:** 12% to 15%.\\n   - **Significance:** Indicates variation in RBC sizes; high levels may suggest mixed anemia or other disorders.\\n\\n9. **Platelet Count:**\\n   - **Normal Range:** 150,000 to 400,000 cells/mcL (150 to 400 k/mcL).\\n   - **Significance:** Involved in blood clotting. Low levels may cause bleeding; high levels could indicate infection or inflammation.\\n\\n10. **Mean Platelet Volume (MPV):**\\n    - **Normal Range:** 7.0 to 9.0 fL.\\n    - **Significance:** Average size of platelets; useful in diagnosing platelet disorders.\\n\\n11. **White Blood Cell Differential:**\\n    - **Neutrophils:** 2,500 to 7,000 cells/mcL.\\n    - **Lymphocytes:** 1,000 to 4,800 cells/mcL.\\n    - **Monocytes:** 200 to 800 cells/mcL.\\n    - **Eosinophils:** Less than 500 cells/mcL.\\n    - **Basophils:** Less than 300 cells/mcL.\\n    - **Significance:** Helps identify specific infections or conditions based on WBC types.\\n\\n#### Factors Affecting Normal Ranges:\\n- **Lab Variability:** Reference ranges may differ between laboratories.\\n- **Age and Gender:** Normal values can vary, especially between adults and children.\\n- **Hormonal Status:** Differences in males and females, influenced by hormones like estrogen and testosterone.\\n- **Pregnancy:** May affect some blood parameters.\\n\\n#### What Abnormal Results Might Indicate:\\n- **High WBC:** Infection, inflammation, or conditions like leukemia.\\n- **Low WBC:** Increased infection risk, bone marrow disorders, or certain viral infections.\\n- **High RBC/Hemoglobin:** Dehydration, polycythemia vera, or chronic hypoxia.\\n- **Low RBC/Hemoglobin:** Anemia, which can result from iron deficiency, blood loss, or chronic disease.\\n- **High Platelets:** Infection, inflammation, or myeloproliferative disorders.\\n- **Low Platelets:** Bleeding disorders, immune thrombocytopenia, or bone marrow issues.\\n\\n#### Follow-Up and Consultation:\\n- **Next Steps:** If results are abnormal, consult a healthcare provider for further testing or treatment.\\n- **Monitoring:** Regular check-ups may be needed to monitor conditions affecting blood counts.\\n\\n#### Conclusion:\\nUnderstanding your CBC results involves comparing each parameter against the lab's reference ranges and considering your overall health context. Consulting with a healthcare provider is essential for accurate interpretation and appropriate management.\", \"\\n\\n**Interpreting a CBC Medical Report: A Structured Approach**\\n\\n1. **White Blood Cells (WBC)**:\\n   - Reference Range: 4,500 to 11,000 cells/mcL.\\n   - Significance: Part of the immune system; abnormal levels may indicate infection or other immune-related issues.\\n\\n2. **Red Blood Cells (RBC)**:\\n   - Men: 4.5 million to 5.9 million cells/mcL.\\n   - Women: 4.1 million to 5.1 million cells/mcL.\\n   - Significance: Carriers of oxygen; abnormal levels may suggest anemia or other conditions.\\n\\n3. **Hemoglobin (Hgb)**:\\n   - Men: 14 to 17.5 gm/dL.\\n   - Women: 12.3 to 15.3 gm/dL.\\n   - Significance: Low levels may indicate anemia; high levels could suggest dehydration or other conditions.\\n\\n4. **Hematocrit (Hct)**:\\n   - Men: 41.5% to 50.4%.\\n   - Women: 35.9% to 44.6%.\\n   - Significance: Measures RBC proportion in blood; abnormal levels can indicate dehydration, anemia, or other issues.\\n\\n5. **Mean Corpuscular Volume (MCV)**:\\n   - Reference Range: 80 to 96 fl.\\n   - Significance: Indicates RBC size; high MCV suggests larger cells (possible B12 or folate deficiency), low MCV suggests smaller cells (possible iron-deficiency anemia).\\n\\n6. **Platelets**:\\n   - Reference Range: 150,000 to 450,000 platelets/mcL.\\n   - Significance: Aids in clotting; low levels may cause bleeding issues, high levels might indicate infection or inflammation.\\n\\n**Additional Considerations**:\\n- **Lab Variability**: Reference ranges vary by lab; always compare results against the lab's specific ranges.\\n- **Factors Influencing Results**: Age, sex, and altitude can affect ranges.\\n- **Additional Tests**: MCH, MCHC, RDW, reticulocyte count, MPV, PDW, and WBC differential can provide further diagnostic insights.\\n- **Clinical Context**: Consider patient history and symptoms when interpreting results.\\n- **Follow-Up**: Abnormal results may require further testing or consultation with a healthcare provider.\\n\\nThis structured approach helps in understanding each CBC parameter and their implications for overall health.\"]\n"
     ]
    }
   ],
   "source": [
    "\n",
    "def get_interpretations_list(test_name,urls):\n",
    "    \n",
    "    extracted_texts = []\n",
    "    for url in urls:\n",
    "            content = scrape_and_extract(url)\n",
    "            if content:\n",
    "                cleaned_text = clean_text(content)\n",
    "                extracted_texts.append(cleaned_text)\n",
    "\n",
    "    web_content = \"\\n\\n\".join(extracted_texts)\n",
    "    web_content_chunks = chunk_text(web_content)\n",
    "\n",
    "    responses = []\n",
    "    for i in range(len(web_content_chunks)):\n",
    "        messages = [\n",
    "            SystemMessage(content=\"You are a medical expert providing the relavent content from the given one.\"),\n",
    "            HumanMessage(content=f\"\"\"Based on the following information:\\n\\n{web_content_chunks[i]}\\n\\n extract the information\n",
    "        that can help in interpreting the medical report related to {test_name} (test). Don't type \n",
    "        anything else. Just provide the relavent information from the content nothing else, if there\n",
    "        is nothing relevant then just response with there is nothing helpful but dont type anything from your knowledge.\"\"\")\n",
    "        ]\n",
    "        # message = f\"\"\"You are a medical expert providing the relavent content from the given one.\n",
    "        # Based on the following information:\\n\\n{web_content_chunks[i]}\\n\\n extract the information\n",
    "        # that can help in interpreting the medical report related to {test_name} (test). Don't type \n",
    "        # anything irrelevant. Just provide the relavent information from the content.\"\"\"\n",
    "        # print(len(message))\n",
    "\n",
    "        response = chat2(messages)\n",
    "        response = remove_tags(response.content)\n",
    "        responses.append(response)\n",
    "        \n",
    "    return responses\n",
    "\n",
    "urlss = get_URLs(test_name)\n",
    "interpretation = get_interpretations_list(test_name,urlss)\n",
    "print(interpretation)\n"
   ]
  },
  {
   "cell_type": "code",
   "execution_count": 12,
   "metadata": {},
   "outputs": [
    {
     "name": "stdout",
     "output_type": "stream",
     "text": [
      "6130\n"
     ]
    }
   ],
   "source": [
    "z = 0\n",
    "for i in range(len(interpretation)):\n",
    "    # print(i, \"---\", interpretation[i])\n",
    "    z = z + int(len(interpretation[i]))\n",
    "print(z)"
   ]
  },
  {
   "cell_type": "code",
   "execution_count": 13,
   "metadata": {},
   "outputs": [],
   "source": [
    "def summarize_web_content(list_of_interpretations, test_name):\n",
    "    \"\"\"Summarize the interpretations.\"\"\"\n",
    "    # Join the interpretations into a single string\n",
    "    interpretations = \"\".join(list_of_interpretations)\n",
    "    chain = chat | StrOutputParser()\n",
    "\n",
    "    prompt = f\"\"\"You are a medical expert. Summarize the provided content in a maximum of 1000 words to aid \n",
    "    in interpreting the medical report related to {test_name}. Ensure the summary remains within the word \n",
    "    limit while retaining key insights.\n",
    "\n",
    "    Content: {interpretations}\"\"\"\n",
    "\n",
    "    response = chain.invoke(prompt)\n",
    "    response = remove_tags(response)\n",
    "    return response"
   ]
  },
  {
   "cell_type": "code",
   "execution_count": 14,
   "metadata": {},
   "outputs": [],
   "source": [
    "texttt = summarize_web_content(interpretation, test_name)"
   ]
  },
  {
   "cell_type": "code",
   "execution_count": 15,
   "metadata": {},
   "outputs": [
    {
     "data": {
      "text/plain": [
       "\"\\n\\n### Summary of CBC Medical Report Interpretation\\n\\nA Complete Blood Count (CBC) is a fundamental blood test that provides essential information about various blood components, helping diagnose and monitor numerous health conditions. This summary outlines the key components of a CBC, their normal ranges, significance, factors affecting results, implications of abnormal findings, and the structured approach to interpretation.\\n\\n---\\n\\n### **Components of CBC and Their Normal Ranges**\\n\\n1. **White Blood Cells (WBC):**\\n   - **Normal Range:** 4,000 to 10,000 cells per microliter (mcL).\\n   - **Significance:** WBCs are part of the immune system and help fight infections. Elevated levels may indicate infection, inflammation, or conditions like leukemia, while low levels could suggest increased infection risk, bone marrow disorders, or viral infections.\\n\\n2. **Red Blood Cells (RBC):**\\n   - **Normal Range:**\\n     - Females: 4.0 to 5.4 million cells/mcL.\\n     - Males: 4.5 to 6.1 million cells/mcL.\\n   - **Significance:** RBCs transport oxygen throughout the body. Low levels may indicate anemia, while high levels could suggest dehydration or polycythemia vera.\\n\\n3. **Hemoglobin (Hb):**\\n   - **Normal Range:**\\n     - Females: 11.5 to 15.5 g/dL.\\n     - Males: 13 to 17 g/dL.\\n   - **Significance:** Hemoglobin is the oxygen-carrying protein in RBCs. Low levels are associated with anemia, which can result from iron deficiency, blood loss, or chronic disease.\\n\\n4. **Hematocrit (Hct):**\\n   - **Normal Range:**\\n     - Females: 36% to 48%.\\n     - Males: 40% to 55%.\\n   - **Significance:** Hematocrit measures the percentage of blood made up by RBCs. Low levels may indicate anemia, while high levels could suggest dehydration or polycythemia.\\n\\n5. **Mean Corpuscular Volume (MCV):**\\n   - **Normal Range:** 80 to 100 femtoliters (fL).\\n   - **Significance:** MCV measures the average size of RBCs, helping classify anemia into microcytic (small cells), normocytic (normal cells), or macrocytic (large cells).\\n\\n6. **Mean Corpuscular Hemoglobin (MCH):**\\n   - **Normal Range:** 27 to 31 picograms (pg) per cell.\\n   - **Significance:** MCH measures the average hemoglobin content in RBCs, aiding in the diagnosis of anemia.\\n\\n7. **Mean Corpuscular Hemoglobin Concentration (MCHC):**\\n   - **Normal Range:** 32 to 36 g/dL.\\n   - **Significance:** MCHC measures the average concentration of hemoglobin in RBCs, further assisting in anemia diagnosis.\\n\\n8. **Red Cell Distribution Width (RDW):**\\n   - **Normal Range:** 12% to 15%.\\n   - **Significance:** RDW indicates the variation in RBC sizes. High levels may suggest mixed anemia or other disorders.\\n\\n9. **Platelet Count:**\\n   - **Normal Range:** 150,000 to 400,000 cells/mcL.\\n   - **Significance:** Platelets are involved in blood clotting. Low levels may cause bleeding, while high levels could indicate infection, inflammation, or myeloproliferative disorders.\\n\\n10. **Mean Platelet Volume (MPV):**\\n    - **Normal Range:** 7.0 to 9.0 fL.\\n    - **Significance:** MPV measures the average size of platelets, useful in diagnosing platelet disorders.\\n\\n11. **White Blood Cell Differential:**\\n    - **Neutrophils:** 2,500 to 7,000 cells/mcL.\\n    - **Lymphocytes:** 1,000 to 4,800 cells/mcL.\\n    - **Monocytes:** 200 to 800 cells/mcL.\\n    - **Eosinophils:** Less than 500 cells/mcL.\\n    - **Basophils:** Less than 300 cells/mcL.\\n    - **Significance:** The differential helps identify specific infections or conditions based on the relative proportions of WBC types.\\n\\n---\\n\\n### **Factors Affecting Normal Ranges**\\n\\n- **Lab Variability:** Reference ranges may differ between laboratories due to differences in testing methods.\\n- **Age and Gender:** Normal values vary between adults and children and between males and females.\\n- **Hormonal Status:** Hormones like estrogen and testosterone can influence blood parameters.\\n- **Pregnancy:** Some blood parameters may be affected during pregnancy.\\n\\n---\\n\\n### **What Abnormal Results Might Indicate**\\n\\n- **High WBC:** Infection, inflammation, or conditions like leukemia.\\n- **Low WBC:** Increased infection risk, bone marrow disorders, or viral infections.\\n- **High RBC/Hemoglobin:** Dehydration, polycythemia vera, or chronic hypoxia.\\n- **Low RBC/Hemoglobin:** Anemia, which can result from iron deficiency, blood loss, or chronic disease.\\n- **High Platelets:** Infection, inflammation, or myeloproliferative disorders.\\n- **Low Platelets:** Bleeding disorders, immune thrombocytopenia, or bone marrow issues.\\n\\n---\\n\\n### **Follow-Up and Consultation**\\n\\n- **Next Steps:** If results are abnormal, further testing or treatment may be necessary. Consult a healthcare provider for guidance.\\n- **Monitoring:** Regular check-ups may be needed to monitor conditions affecting blood counts.\\n\\n---\\n\\n### **Conclusion**\\n\\nUnderstanding your CBC results involves comparing each parameter against the lab's reference ranges and considering your overall health context. Consulting with a healthcare provider is essential for accurate interpretation and appropriate management.\""
      ]
     },
     "execution_count": 15,
     "metadata": {},
     "output_type": "execute_result"
    }
   ],
   "source": [
    "texttt"
   ]
  },
  {
   "cell_type": "code",
   "execution_count": 16,
   "metadata": {},
   "outputs": [
    {
     "data": {
      "text/plain": [
       "5030"
      ]
     },
     "execution_count": 16,
     "metadata": {},
     "output_type": "execute_result"
    }
   ],
   "source": [
    "len(texttt)"
   ]
  },
  {
   "cell_type": "code",
   "execution_count": 17,
   "metadata": {},
   "outputs": [],
   "source": [
    "\n",
    "def generate_refined_prompt(query,type,disease):\n",
    "    \n",
    "    # Construct prompt\n",
    "    prompt = f\"\"\"You are an expert doctor. I have provided the test type, \n",
    "    the suspected disease (if mentioned by the patient), and the lab report. Since the lab report \n",
    "    primarily consists of numerical values, retrieving relevant context from my RAG system is challenging.\n",
    "    Your task is to generate a maximum of 200-300 words textual summary that best represents this report,\n",
    "    incorporating key abnormalities or notable findings. Provide 2 descriptions which are inside the     \n",
    "    <p>*</p> tag (don't use any other mode for separating them). This summary will be used to fetch the \n",
    "    most relevant medical context from my RAG, which, along with the report, will help the LLM provide an \n",
    "    accurate interpretation.\n",
    "\n",
    "    For your information so that you can write the desrciption in a familiar way, the data i have scrapped \n",
    "    is from Testing.com, medlinplus.com and some books.\n",
    "    Don't write anything else, other than the relavant interpretation.\n",
    "    :\n",
    "    \n",
    "    Type: {type}\n",
    "    Diesease: {disease}\n",
    "    Report: {query}\n",
    "        \n",
    "    Answer:\n",
    "    \"\"\"\n",
    "    \n",
    "    chain = chat | StrOutputParser()\n",
    "    \n",
    "    response = chain.invoke(prompt)\n",
    "    response = remove_tags(response)\n",
    "    response = only_p_tags(response)\n",
    "    return response # returns the list of 2 description"
   ]
  },
  {
   "cell_type": "code",
   "execution_count": 18,
   "metadata": {},
   "outputs": [],
   "source": [
    "\n",
    "def discard_irrelevant_context(test_name,normal_ranges,retrieved_context,report,web_content):\n",
    "    \n",
    "    # Construct prompt\n",
    "    prompt = f\"\"\"You are an expert doctor. Your task is to extract only the most relevant \n",
    "    information from the provided medical context and discard anything unrelated.  \n",
    "\n",
    "### Given Information:\n",
    "- **Test Type:** {test_name}  \n",
    "- **Medical Report:** {report}  \n",
    "- **Normal Ranges:** {normal_ranges}  \n",
    "- **Context:** {retrieved_context} \\n {web_content}  \n",
    "\n",
    "### Instructions:\n",
    "- Read the retrieved context carefully.  \n",
    "- Identify the information that is directly relevant to the test {test_name} and the provided ranges (only\n",
    " consider the provided ranges if the normal ranges are not present in the test report, otherwise consider the provided ones).  \n",
    "- Extract only the relevant paragraphs and discard anything that is not directly related.  \n",
    "- Ensure that the extracted content provides useful insights about the given test.  \n",
    "\n",
    "### Output Format:\n",
    "Return the **filtered context** as clean paragraphs that are relevant to {test_name}. Do not include any unrelated information, just provide the paragraphs nothing else.  \n",
    "\n",
    "\"\"\"\n",
    "    \n",
    "    chain = chat | StrOutputParser()\n",
    "    \n",
    "    response = chain.invoke(prompt)\n",
    "    response = remove_tags(response)\n",
    "    return response # final paragraphs"
   ]
  },
  {
   "cell_type": "code",
   "execution_count": 19,
   "metadata": {},
   "outputs": [],
   "source": [
    "# memory = ConversationBufferMemory()\n",
    "# conversation = ConversationChain(\n",
    "#     llm=chat2,\n",
    "#     memory=memory\n",
    "# )"
   ]
  },
  {
   "cell_type": "code",
   "execution_count": 20,
   "metadata": {},
   "outputs": [],
   "source": [
    "\n",
    "def generate_final_output(report,type,disease,generated_text,context):\n",
    "    \n",
    "    \n",
    "    # Construct prompt\n",
    "    prompt = f\"\"\"You are a expert doctor. You have to interpret the medical lab report of the patient. I have provided \n",
    "    you the lab report, the test type, the disease which the patient thinks he is suffereing from and some context which may assist you in interpreting the report.\n",
    "    Interpret the report in layman understandable form in just 2 lines, not more than that and donot write anything else other than the interpretation. If you think that\n",
    "    the disease he thinks he is suffering from do not match the report, you can mention that as well and recommend the possible diseases.In case the Context is not benificial,\n",
    "    you can ignore it and answer from your own knowledge. Also score your answer out of 10, but just the number in the markdown form, nothing else. The answer should not be more than 2 to 3 lines.\n",
    "    And after that also tell whether the provided context was helpful in interpretation or not, and provide the part which was helpful (it can be detailed)\n",
    "    also rate the helpfullness.\n",
    "    :\n",
    "        \n",
    "    Context: {context}\n",
    "    Type: {type}\n",
    "    Disease: {disease}\n",
    "    Report: {report}\n",
    "    Random Context (it can be wrong): {generated_text}\n",
    "    Answer:\n",
    "    \"\"\"\n",
    "    \n",
    "    chain = chat | StrOutputParser()\n",
    "    \n",
    "    response = chain.invoke(prompt)\n",
    "    response = remove_tags(response)\n",
    "    return response\n"
   ]
  },
  {
   "cell_type": "code",
   "execution_count": 21,
   "metadata": {},
   "outputs": [
    {
     "name": "stdout",
     "output_type": "stream",
     "text": [
      "Response:  \n",
      "\n",
      "The CBC report shows low platelets and white blood cells, consistent with dengue fever, but hemoglobin is slightly low.  \n",
      "\n",
      "**Score:** 9  \n",
      "\n",
      "**Context Helpfulness:** The context was very helpful as it explained normal ranges and specific indicators for dengue, such as thrombocytopenia.  \n",
      "\n",
      "**Helpfulness Rating:** 9\n"
     ]
    }
   ],
   "source": [
    "generated_text = generate_refined_prompt(report,test_name,disease) # list of 2 descriptions\n",
    "# print(\"Generated text: \",generated_text)\n",
    "retrieved_content = retrieve_context(generated_text)\n",
    "# print(\"Retrieved content: \",retrieved_content)\n",
    "unique_content = get_unique_content_only(retrieved_content)\n",
    "# print(\"Unique content: \",unique_content)\n",
    "context = discard_irrelevant_context(test_name,None,unique_content,report,texttt)\n",
    "# print(\"Context: \",context)\n",
    "response = generate_final_output(report,test_name,disease,generated_text,context)\n",
    "print(\"Response: \",response)"
   ]
  },
  {
   "cell_type": "code",
   "execution_count": null,
   "metadata": {},
   "outputs": [],
   "source": []
  },
  {
   "cell_type": "code",
   "execution_count": null,
   "metadata": {},
   "outputs": [],
   "source": [
    "# 22.6 / 15.0 / 18.2\n",
    "# 10\n",
    "# 4.5\n",
    "# 4.4\n",
    "# 2.7"
   ]
  },
  {
   "cell_type": "code",
   "execution_count": null,
   "metadata": {},
   "outputs": [],
   "source": [
    "# test_name = \" Dengue Hemorrhagic Fever \"\n",
    "# disease = \"dengue\"\n",
    "\n",
    "# report = '''Characteristic\tDF¹ (%)\tDHF¹ (%)\tN\tp-value²\n",
    "# Demographics\t\t\t\t\n",
    "# Age (median ± interquartile range)\t26.0 ± 19.0\t24.5 ± 18.0\t201\t0.905\n",
    "# Gender\t\t\t\t\n",
    "# Male\t99 (61.5)\t30 (75.0)\t201\t0.077\n",
    "# Female\t62 (38.5)\t10 (25.0)\t\t\n",
    "# Clinical Presentation\t\t\t\t\n",
    "# Fever\t159/161 (98.8)\t39/39 (100.0)\t200\t0.647\n",
    "# Nausea and/or vomiting\t93/161 (57.8)\t27/40 (67.5)\t201\t0.173\n",
    "# Rash\t44/161 (27.3)\t31/40 (77.5)\t201\t<0.001\n",
    "# Abdominal Pain\t6/86 (7.0)\t1/11 (9.1)\t97\t0.582\n",
    "# Diarrhea\t26/161 (16.2)\t5/40 (12.5)\t201\t0.384\n",
    "# Myalgia\t46/161 (28.6)\t6/40 (15.0)\t201\t0.056\n",
    "# Headache\t21/161 (13.0)\t2/40 (5.0)\t201\t0.120\n",
    "# Cough\t22/161 (13.7)\t1/40 (2.5)\t201\t0.033\n",
    "# Hemorrhage\t6/161 (3.7)\t29/40 (72.5)\t201\t<0.001\n",
    "# Temperature (median)\t38.00 ± 2.00\t37.00 ± 1.00\t177\t0.014\n",
    "# Laboratory Findings\t\t\t\t\n",
    "# Thrombocytopenia at presentation\t116/151 (76.8)\t36/40 (90.0)\t191\t0.047\n",
    "# Received platelet transfusion\t25/90 (27.8)\t13/32 (40.6)\t122\t0.131\n",
    "# Low Hemoglobin\t16/137 (11.7)\t8/37 (21.6)\t174\t0.102\n",
    "# Hematocrit level on admission (median)\t39.50 ± 6.75\t40.40 ± 8.80\t167\t0.607\n",
    "# Leukopenia\t64/141 (45.4)\t9/37 (24.3)\t178\t0.015\n",
    "# Neutropenia\t35/133 (26.3)\t16/34 (47.1)\t167\t0.018\n",
    "# Lymphocytosis\t30/132 (22.7)\t7/33 (21.2)\t165\t0.529\n",
    "# Monocytosis\t32/122 (26.2)\t19/33 (57.6)\t155\t0.001\n",
    "# Raised ALT\t63/110 (57.3)\t27/32 (84.4)\t142\t0.004\n",
    "# Raised AST\t68/79 (86.1)\t25/26 (96.2)\t105\t0.147'''\n"
   ]
  },
  {
   "cell_type": "code",
   "execution_count": null,
   "metadata": {},
   "outputs": [],
   "source": [
    "# report = \"\"\"Complete Blood Count (CBC) Report\n",
    "# Test\tResult\tReference Range\tUnits\tFlag\n",
    "# White Blood Cell Count (WBC)\t7.5\t4.0 - 11.0\tx10³/μL\tNormal\n",
    "# Red Blood Cell Count (RBC)\t3\t4.5 - 5.9\tx10⁶/μL\tAbnormal\n",
    "# Hemoglobin (Hgb)\t15.0\t13.5 - 17.5\tg/dL\tNormal\n",
    "# Hematocrit (Hct)\t45\t40 - 52\t%\tNormal\n",
    "# Mean Corpuscular Volume (MCV)\t88\t80 - 100\tfL\tNormal\n",
    "# Mean Corpuscular Hemoglobin (MCH)\t29\t27 - 34\tpg\tNormal\n",
    "# Mean Corpuscular Hemoglobin Concentration (MCHC)\t34\t32 - 36\tg/dL\tNormal\n",
    "# Red Cell Distribution Width (RDW)\t13.5\t11.5 - 14.5\t%\tNormal\n",
    "# Platelet Count\t250\t150 - 450\tx10³/μL\tNormal\n",
    "# Neutrophils\t35\t40 - 70\t%\tAbnormal\n",
    "# Lymphocytes\t10\t20 - 40\t%\tAbnormal\n",
    "# Monocytes\t6\t2 - 10\t%\tNormal\n",
    "# Eosinophils\t3\t1 - 4\t%\tNormal\n",
    "# Basophils\t1\t0 - 2\t%\tNormal\"\"\""
   ]
  }
 ],
 "metadata": {
  "kernelspec": {
   "display_name": ".venv",
   "language": "python",
   "name": "python3"
  },
  "language_info": {
   "codemirror_mode": {
    "name": "ipython",
    "version": 3
   },
   "file_extension": ".py",
   "mimetype": "text/x-python",
   "name": "python",
   "nbconvert_exporter": "python",
   "pygments_lexer": "ipython3",
   "version": "3.11.8"
  }
 },
 "nbformat": 4,
 "nbformat_minor": 2
}
