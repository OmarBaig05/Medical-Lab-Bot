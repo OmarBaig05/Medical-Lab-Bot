{
 "cells": [
  {
   "cell_type": "code",
   "execution_count": 3,
   "metadata": {},
   "outputs": [],
   "source": [
    "from groq import Groq\n",
    "import base64\n",
    "import os\n",
    "import dotenv\n",
    "\n",
    "dotenv.load_dotenv()\n",
    "GROQ_API_KEY = os.getenv(\"GROQ_API_KEY\")"
   ]
  },
  {
   "cell_type": "code",
   "execution_count": 14,
   "metadata": {},
   "outputs": [],
   "source": [
    "# Function to encode the image\n",
    "def encode_image(image_path):\n",
    "  with open(image_path, \"rb\") as image_file:\n",
    "    return base64.b64encode(image_file.read()).decode('utf-8')\n",
    "\n",
    "# Path to your image\n",
    "image_path = \"./Report_Images/Complete-blood-count-CBC-results.png\"\n",
    "\n",
    "# Getting the base64 string\n",
    "base64_image = encode_image(image_path)\n",
    "\n",
    "client = Groq()\n",
    "client.api_key = GROQ_API_KEY"
   ]
  },
  {
   "cell_type": "code",
   "execution_count": 35,
   "metadata": {},
   "outputs": [],
   "source": [
    "\n",
    "\n",
    "\n",
    "chat_completion = client.chat.completions.create(\n",
    "    messages=[\n",
    "        {\n",
    "            \"role\": \"user\",\n",
    "            \"content\": [\n",
    "                {\"type\": \"text\", \n",
    "                \"text\": \"\"\"provide me the details in the image in the form of table, dont type anything else in the response.  \n",
    "                Make sure that correct details are provided in the table and the alignment is also according to the image.\n",
    "                just provide me the table and nothing else, not even any disclaimer or note.\n",
    "                provide the response in the markdown format.\"\"\"},\n",
    "                {\n",
    "                    \"type\": \"image_url\",\n",
    "                    \"image_url\": {\n",
    "                        \"url\": f\"data:image/jpeg;base64,{base64_image}\",\n",
    "                    },\n",
    "                },\n",
    "            ],\n",
    "        }\n",
    "    ],\n",
    "    model=\"llama-3.2-90b-vision-preview\",\n",
    ")\n",
    "\n"
   ]
  },
  {
   "cell_type": "code",
   "execution_count": 36,
   "metadata": {},
   "outputs": [],
   "source": [
    "response = chat_completion.choices[0].message.content"
   ]
  },
  {
   "cell_type": "code",
   "execution_count": 37,
   "metadata": {},
   "outputs": [
    {
     "name": "stdout",
     "output_type": "stream",
     "text": [
      "| Test name | Initial CBC | 18 months later | Unit | Reference range |\n",
      "| --- | --- | --- | --- | --- |\n",
      "| White blood cells (WBC) | 1.90 | 4.25 | K/μL | 4.5–11.5 |\n",
      "| Red blood cells (RBC) | 3.75 | 2.47 | M/μL | 4–5.40 |\n",
      "| Hemoglobin (Hb) | 11 | 8.8 | g/dL | 12 15 |\n",
      "| Hematocrit (Hct) | 30.6 | 26.9 | % | 35-49 |\n",
      "| Mean cell volume (MCV) | 81.6 | 108.9 | fL | 80–94 |\n",
      "| Mean cell hemoglobin (MCH) | 29.3 | 35.6 | pg | 32–36 |\n",
      "| Platelets | 12 | 51 | K/μL | 150–450 |\n",
      "| Reticulocyte absolute | 0.020 | 0.128 | % | 0.5–2 |\n",
      "\n",
      "**Note:** The table provided does not include all the details from the image, as some information is not easily translatable into a markdown format. The table focuses on key medical test results and their associated units and reference ranges.\n"
     ]
    }
   ],
   "source": [
    "print(response)"
   ]
  },
  {
   "cell_type": "code",
   "execution_count": null,
   "metadata": {},
   "outputs": [],
   "source": []
  }
 ],
 "metadata": {
  "kernelspec": {
   "display_name": ".venv",
   "language": "python",
   "name": "python3"
  },
  "language_info": {
   "codemirror_mode": {
    "name": "ipython",
    "version": 3
   },
   "file_extension": ".py",
   "mimetype": "text/x-python",
   "name": "python",
   "nbconvert_exporter": "python",
   "pygments_lexer": "ipython3",
   "version": "3.11.8"
  }
 },
 "nbformat": 4,
 "nbformat_minor": 2
}
