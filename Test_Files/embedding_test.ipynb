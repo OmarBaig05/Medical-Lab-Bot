{
 "cells": [
  {
   "cell_type": "code",
   "execution_count": 4,
   "metadata": {},
   "outputs": [],
   "source": [
    "import tiktoken"
   ]
  },
  {
   "cell_type": "code",
   "execution_count": 22,
   "metadata": {},
   "outputs": [],
   "source": [
    "import pandas as pd\n",
    "\n",
    "df = pd.read_csv(\"../DATA/Scraped_Data/medical_tests_interpretation.csv\")\n",
    "df2 = pd.read_csv(\"../DATA/Scraped_Data/testing_scraped_content.csv\")"
   ]
  },
  {
   "cell_type": "code",
   "execution_count": 23,
   "metadata": {},
   "outputs": [
    {
     "data": {
      "text/html": [
       "<div>\n",
       "<style scoped>\n",
       "    .dataframe tbody tr th:only-of-type {\n",
       "        vertical-align: middle;\n",
       "    }\n",
       "\n",
       "    .dataframe tbody tr th {\n",
       "        vertical-align: top;\n",
       "    }\n",
       "\n",
       "    .dataframe thead th {\n",
       "        text-align: right;\n",
       "    }\n",
       "</style>\n",
       "<table border=\"1\" class=\"dataframe\">\n",
       "  <thead>\n",
       "    <tr style=\"text-align: right;\">\n",
       "      <th></th>\n",
       "      <th>Test Name</th>\n",
       "      <th>Description</th>\n",
       "      <th>Source</th>\n",
       "      <th>URL</th>\n",
       "    </tr>\n",
       "  </thead>\n",
       "  <tbody>\n",
       "    <tr>\n",
       "      <th>0</th>\n",
       "      <td>Acetaminophen Level</td>\n",
       "      <td>What is an acetaminophen level test? This test...</td>\n",
       "      <td>MedlinePlus</td>\n",
       "      <td>https://medlineplus.gov/lab-tests/acetaminophe...</td>\n",
       "    </tr>\n",
       "    <tr>\n",
       "      <th>1</th>\n",
       "      <td>Acid-Fast Bacillus (AFB) Tests</td>\n",
       "      <td>What are acid-fast bacillus (AFB) tests? Acid-...</td>\n",
       "      <td>MedlinePlus</td>\n",
       "      <td>https://medlineplus.gov/lab-tests/acid-fast-ba...</td>\n",
       "    </tr>\n",
       "  </tbody>\n",
       "</table>\n",
       "</div>"
      ],
      "text/plain": [
       "                        Test Name  \\\n",
       "0             Acetaminophen Level   \n",
       "1  Acid-Fast Bacillus (AFB) Tests   \n",
       "\n",
       "                                         Description       Source  \\\n",
       "0  What is an acetaminophen level test? This test...  MedlinePlus   \n",
       "1  What are acid-fast bacillus (AFB) tests? Acid-...  MedlinePlus   \n",
       "\n",
       "                                                 URL  \n",
       "0  https://medlineplus.gov/lab-tests/acetaminophe...  \n",
       "1  https://medlineplus.gov/lab-tests/acid-fast-ba...  "
      ]
     },
     "execution_count": 23,
     "metadata": {},
     "output_type": "execute_result"
    }
   ],
   "source": [
    "df.head(2)"
   ]
  },
  {
   "cell_type": "code",
   "execution_count": 24,
   "metadata": {},
   "outputs": [],
   "source": [
    "def embeddingCreator(text,modelName = \"o200k_base\"):\n",
    "    encoding = tiktoken.get_encoding(modelName)\n",
    "    tokens = encoding.encode(text)\n",
    "    return tokens"
   ]
  },
  {
   "cell_type": "code",
   "execution_count": 25,
   "metadata": {},
   "outputs": [],
   "source": [
    "def Scrapper(df,modelName = \"o200k_base\"):\n",
    "    df_tokens = pd.DataFrame(columns=[\"Test Name\",\"tokens\",\"Source\",\"URL\"])\n",
    "    for i in range(len(df)):\n",
    "        text = df.loc[i,\"Description\"]\n",
    "        test_Name = df.loc[i,\"Test Name\"]\n",
    "        Url = df.loc[i,\"URL\"]\n",
    "\n",
    "        tokens = embeddingCreator(text,modelName)\n",
    "        df_tokens = pd.concat([df_tokens, pd.DataFrame([{\"Test Name\":test_Name,\"tokens\":tokens, \"Source\":\"Testing.com\",\"URL\":Url}])], ignore_index=True)\n",
    "    return df_tokens\n",
    "\n",
    "def writeToFile(df_tokens, filename):\n",
    "    df_tokens.to_csv(filename, index=False)"
   ]
  },
  {
   "cell_type": "code",
   "execution_count": 26,
   "metadata": {},
   "outputs": [
    {
     "name": "stdout",
     "output_type": "stream",
     "text": [
      "RangeIndex(start=0, stop=324, step=1)\n"
     ]
    }
   ],
   "source": [
    "# Fill NaN values in the Description column with an empty string\n",
    "df2['Description'] = df2['Description'].fillna('')\n",
    "print(df2.index)\n",
    "\n",
    "testing_df = Scrapper(df2)"
   ]
  },
  {
   "cell_type": "code",
   "execution_count": 30,
   "metadata": {},
   "outputs": [],
   "source": [
    "import os\n",
    "\n",
    "writeToFile(testing_df, \"/Embedded_Files/testing_tokens.csv\")\n",
    "# Create the directory if it doesn't exist\n",
    "if not os.path.exists(\"/Embedded_Files\"):\n",
    "    os.makedirs(\"/Embedded_Files\")\n",
    "\n",
    "writeToFile(testing_df, \"/Embedded_Files/testing_tokens.csv\")"
   ]
  },
  {
   "cell_type": "code",
   "execution_count": 29,
   "metadata": {},
   "outputs": [
    {
     "name": "stdout",
     "output_type": "stream",
     "text": [
      "What is being tested? Fungi are microbes that exist in nature as one-celled yeasts or as branching filamentous molds (also may be spelled “moulds”). Only about 20 to 25 species of fungi are common causes of infection. Fungal tests detect infections and sometimes identify the fungus and help guide treatment. Fungal infections range from superficial skin infections to serious deep tissue, blood, lung, or systemic diseases. Superficial fungal infections are very common. They may cause nail infections or itchy, red, scaly skin infections such as those commonly known as athlete’s foot, jock itch, and ringworm, or yeast infections that cause white patches in the mouth (thrush) or vaginal itching and discharge. According to the Centers for Disease Control and Prevention (CDC), almost 75% of women will have at least one yeast infection in their lifetime. Lung, blood, and systemic infections: less commonly, fungi cause serious lung infections, blood infections (septicemia), or systemic infections that can affect any organ in the body. Fungal lung infections typically start with the accidental inhalation of microscopic fungal spores. While anyone can get a serious lung or systemic fungal infection, most affected people will only experience mild to moderate flu-like symptoms. However, people who are immunocompromised, such as those with HIV/AIDS, organ transplant recipients, and people with an underlying condition such as diabetes or lung disease are at an increased risk of having a severe fungal infection, a systemic infection, and/or recurrent infections. Fungal tests are used to detect and identify fungi in order to diagnose infections and help guide treatment. Fungal testing typically includes a microscopic examination of the sample on a slide, sometimes using a preparation or stain to aid in detection of fungal elements. This may be sufficient to determine that the infection is due to a fungus and, with superficial infections, no further testing may be required. However, in cases of persistent, deep, or systemic infections when a more definitive diagnosis is needed, the microscopic exam may be followed by additional tests, such as culture and susceptibility testing , antigen or antibody tests, or molecular tests that detect fungal genetic material. How is the sample collected for testing? The sample collected depends upon the suspected location(s) of the infection. For superficial infections, the sample may include scrapings of the skin, clipped or shaved nail or hair, vaginal secretions collected with a swab, or a urine sample. For deeper tissue, organ, or systemic infections, the sample may involve the collection of urine, blood from a vein, sputum from the lungs, bone marrow, and/or the collection of a tissue biopsy. If meningitis is suspected, a sample of cerebrospinal fluid is collected. Common Questions How is it used? Fungal tests are used to help detect and diagnose a fungal infection, to help guide treatment, and/or to monitor the effectiveness of treatment. For many superficial skin and yeast infections, a clinical examination of the affected body part(s) and microscopic examination of the sample may be sufficient to determine that a fungal infection is present. The specific organism is not always identified. The health care practitioner has several topical and oral antifungal treatment options and bases the choice(s) on practice guidelines and experience. For persistent, deeper, or systemic infections, several tests may be used for diagnosis and monitoring. Fungal cultures are used to identify the specific fungi present. Many fungi are slow-growing, so it may take weeks for results. Susceptibility testing performed on fungi isolated from a culture is used to determine which antifungal is best to use for treatment. Tests for fungal antigens and antibodies may be used to determine if an individual has, or recently had, a specific fungal infection. They are more rapid than fungal cultures but only test for a specific fungal species, so the healthcare practitioner has to know what fungal organism to test for. Many people have fungal antibodies from a prior exposure to the organism, so a single antibody test may not confirm the presence of a current infection. Sometimes, blood samples are collected 2 to 3 weeks apart (acute and convalescent samples) and tested to see if antibody levels (titers) are changing; the evaluation of these results may take several weeks. Molecular tests may be performed to identify fungi grown in culture and sometimes may be used to detect a specific fungus directly in the sample collected. The following tables summarize uses of various fungal tests: Tests for Superficial Fungal Infections Test Name Sample Type(s) Description Uses Time for Results KOH prep (potassium hydroxide solution) Skin scrapings, hair or nail clippings, tissue, vaginal swab, body fluids, sputum The sample is placed on a slide and the chemical solution dissolves non-fungal elements; reveals yeast cells and fungal hyphae (branching filaments) on a microscope slide; examined by a healthcare practitioner or trained laboratorian. Primary screening tool; detects fungi but does not tell what specific fungus is present. Rapid Calcofluor white stain Skin scrapings, hair or nail clippings, vaginal swab, body fluids, sputum Stain binds to fungal elements in a sample and fluoresces (glows) under ultraviolet light; allows visualization on microscope slide; more sensitive means of visualizing fungi. Detects fungi but does not tell what specific fungus is present. Rapid Fungal culture Skin, nail, hair, body fluids, tissue, vaginal swab, sputum, blood A sample is placed on or into nutrient media and incubated to grow any fungi present in sample. Primary tool to diagnose a fungal infection; grows fungi for identification tests and subsequent susceptibility testing. Weeks When a more definitive diagnosis is needed, as in cases of persistent, deep, or systemic infections, more extensive testing may be required to identify which fungus is causing the infection and help determine the treatment that may be most effective. This usually involves a combination of the tests mentioned above plus the following tests: Tests for Systemic Fungal Infections Test Name Sample Type(s) Description Uses Time for Results Susceptibility testing Sample of fungus isolated in culture Follow-up to fungal culture; when a pathogenic fungus has been identified, susceptibility testing is sometimes ordered to determine the most effective antifungal agent(s) to use. Guide treatment Days to weeks after culture Antigen testing Blood, urine, CSF, body fluids Detects proteins associated with a specific fungus. This type of test is available for a variety of fungi. Diagnose infection by specific fungus Day(s); rapid tests are available for some fungi (e.g., Cryptococcus , Histoplasma species) Antibody testing Blood, CSF, body fluids Detects immune response to a specific fungus; may be ordered on a single sample or on acute and convalescent samples collected 2 to 3 weeks apart. Diagnose current or recent infection by specific fungus; monitor treatment Day(s) or weeks Molecular tests for DNA, RNA Sample of fungus isolated in culture, blood, CSF, body fluids Detects genetic material of a specific fungus. Detects some fungi; not yet widely available, some in research settings only Days to weeks When is it ordered? Fungal tests are ordered whenever a healthcare practitioner suspects that a person’s signs and symptoms are due to a fungal infection. Many signs and symptoms of fungal infections are similar to those caused by bacteria and/or viruses, and fungal tests are often ordered when it is not clear what is causing the condition. For superficial infections , tests may be ordered when symptoms involving skin, nails, or mucous membranes appear, for example: Itchy, red, scaly areas of skin Nails that are thickened, brittle, and/or deformed White patches in the mouth (thrush) Vaginal itching and discharge (yeast infection) Deep and systemic fungal infections may cause a variety of symptoms depending on the part of the body that is affected. Some examples include: Lung infections may produce flu-like symptoms such as coughing, fever, muscle aches, headaches, and rashes. Blood infections (septicemia) may cause chills, fever, nausea, and rapid heartbeat. Central nervous system (CNS) infections (meningitis) may cause severe persistent headache, stiff neck, and sensitivity to light. Fungal tests may also be ordered after or periodically during treatment to evaluate its effectiveness or to monitor for infection recurrence. What does the test result mean? Interpretation of fungal tests and examinations of slides and cultures often require experience in the study of fungi. Results must be carefully considered, along with signs and symptoms as well as medical history, and sometimes travel history, of the person tested. Superficial Infections Many superficial fungal infections are diagnosed based on a physical examination. In addition to general symptoms, many skin infections have characteristic signs (such as the appearance of infected nails) and typical locations on the body (such as athlete’s foot between the toes). A clinical evaluation cannot, however, definitively tell the healthcare practitioner which microbe is causing a fungal infection. Sometimes a microscopic examination or culture of a sample may be useful in detecting and confirming a fungal infection and may help guide treatment. Some examples of superficial infections include: Yeast infections caused by Candida species Athlete’s foot Jock itch Scalp or hair infection Finger or toenail infection Ringworm Deep Tissue, Lung, Blood, and Systemic Infections In cases of persistent, deep, or systemic infections, a definitive diagnosis is needed and more extensive testing may be required to identify which fungus is causing the infection and to guide treatment. This usually involves a combination of several tests that may be performed on samples of sputum or tissue retrieved from the lungs, blood, urine, or spinal fluid. Examples of some serious fungal infections that may be require extensive testing include: Aspergillosis Blastomycosis Coccidioidomycosis Cryptococcosis Histoplasmosis For more on these, see the links under Related Content. In general, a negative test result means that there is no fungal infection present and symptoms are likely due to another cause. A negative test after a person has been treated for a fungal infection means that the therapy has been successful. Positive results generally indicate that a fungus is present and sometimes identify the type causing an infection: Microscopic examinations (KOH prep or Calcofluor white stain): in general, if fungal elements are seen, then a fungus is the likely the cause of symptoms. These tests, however, do not identify the fungus. Culture: care must be taken when interpreting culture results. Interpretation often depends on the type of sample. For non-sterile sites, such as the skin, a positive culture will typically identify the fungus or fungi present. The fungi identified may be the type that are disease-causing (pathogenic), the type that only cause disease in people with weakened immune systems (opportunistic), or those that are part of the normal flora. A mixture of these types may also be present. Sterile samples, such as blood, CSF, or tissues that are properly collected will not be contaminated with normal flora. A positive culture identifies the fungus or fungi causing the infection. A positive antigen test means that it is likely that the fungus tested is the cause of the person’s infection. A positive antibody test result in a single blood sample indicates exposure to a specific fungus, but it does not indicate whether the exposure was recent or in the past. On the other hand, a rise in the level of antibody (titer) between two serum samples collected 2-3 weeks apart (acute and convalescent) indicates an active or recent fungal infection. Molecular tests: detection of a specific fungus with a molecular test indicates a likely infection with that fungus if the test was performed on a sample from a sterile body site, such as blood, CSF or tissue. Is there anything else I should know? If a fungus that is causing an infection is not present in sufficient amount in a sample, a test to detect and/or identify the fungus may be falsely negative. For antibody testing, some infected individuals with weakened immune systems may not produce antibodies as expected. Fungal infections must frequently be distinguished from infections caused by other microbes, such as bacteria. In some cases, an infection may have both bacteria and fungi present. Tests that may be used to identify or rule out other causes include: Gram stain – a rapid test performed to microscopically detect bacteria and/or fungi in a sample. Bacterial culture – used to rule out a bacterial infection or determine if concurrent bacterial infection exists. AFB testing – ordered when a mycobacterial infection such as tuberculosis is suspected. Blood culture – ordered when septicemia is suspected. Fungi thrive in moist environments, such as surfaces in and around public swimming pools and gym locker rooms, inside sweaty shoes and socks, in skin folds, and wherever skin is kept moist by constrictive clothing. Fungal skin infections can be minimized by wearing flip-flops or sandals when walking around the pool or locker room, by changing socks and underwear at least once a day, drying out shoes, and keeping moist areas of the body clean and dry. If I have a persistent cough and fever, why would my healthcare provider ask me where I have been traveling and what activities I have been doing? Some fungi are found in distinct geographical regions, such in the southwestern U.S. or midwestern U.S. If you have been around excavation or spelunking in caves, you may have been exposed to fungal spores. This can be true, even if travel was not recent. Lung infections caused by some fungi may emerge months to even years after exposure. If my healthcare provider thinks I have a fungal infection, why am I being tested for tuberculosis? Many of the signs and symptoms associated with fungal lung infections could also be due to a tuberculosis infection. Generally, a healthcare practitioner would order tuberculosis testing (such as an AFB smear and culture ) to rule out infection with Mycobacterium tuberculosis (the bacteria that cause tuberculosis) as the cause of your symptoms. The organisms that cause both fungal lung infections and tuberculosis tend to be slow-growing, both in the body and in the laboratory. Will my fungal infection eventually resolve itself without treatment? Some may, but most persist without treatment. Lung and systemic infections may grow progressively worse and cause permanent tissue and organ damage even when symptoms are not severe. Some deep infections are almost uniformly fatal without treatment. Is it really necessary to continue treatment for a long period of time? Yes. Even if you start feeling better in a short period of time, you should follow your healthcare provider’s recommendations. While yeast infections may resolve within a few days to weeks, some fungal infections may require months or even years of consistent treatment.\n"
     ]
    }
   ],
   "source": [
    "# modelName = \"o200k_base\"\n",
    "# encoding = tiktoken.get_encoding(modelName)\n",
    "\n",
    "# print(encoding.decode(testing_df.loc[2,\"tokens\"]))"
   ]
  }
 ],
 "metadata": {
  "kernelspec": {
   "display_name": ".venv",
   "language": "python",
   "name": "python3"
  },
  "language_info": {
   "codemirror_mode": {
    "name": "ipython",
    "version": 3
   },
   "file_extension": ".py",
   "mimetype": "text/x-python",
   "name": "python",
   "nbconvert_exporter": "python",
   "pygments_lexer": "ipython3",
   "version": "3.11.8"
  }
 },
 "nbformat": 4,
 "nbformat_minor": 2
}
