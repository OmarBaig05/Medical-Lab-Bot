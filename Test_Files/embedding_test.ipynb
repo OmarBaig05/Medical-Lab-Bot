{
 "cells": [
  {
   "cell_type": "code",
   "execution_count": 1,
   "metadata": {},
   "outputs": [],
   "source": [
    "import os\n",
    "import fitz\n",
    "import pandas as pd\n",
    "import re"
   ]
  },
  {
   "cell_type": "code",
   "execution_count": 25,
   "metadata": {},
   "outputs": [],
   "source": [
    "df = pd.read_csv(\"../DATA/Scraped_Data/medical_tests_interpretation.csv\")\n",
    "df2 = pd.read_csv(\"../DATA/Scraped_Data/testing_scraped_content.csv\")"
   ]
  },
  {
   "cell_type": "code",
   "execution_count": 3,
   "metadata": {},
   "outputs": [],
   "source": [
    "CHUNK_SIZE = 325"
   ]
  },
  {
   "cell_type": "code",
   "execution_count": 30,
   "metadata": {},
   "outputs": [],
   "source": [
    "\n",
    "def chunk_text(text, chunk_size=CHUNK_SIZE):\n",
    "    words = re.findall(r'\\b\\w+\\b', text)\n",
    "    chunks = [' '.join(words[i:i + chunk_size]) for i in range(0, len(words), chunk_size)]\n",
    "    return chunks\n",
    "\n",
    "def process_csv(df, source):\n",
    "    \n",
    "    # Initialize an empty list to store the new rows\n",
    "    df['Description'] = df['Description'].fillna('')\n",
    "    new_rows = []\n",
    "    \n",
    "    # Iterate over each row in the DataFrame\n",
    "    for index, row in df.iterrows():\n",
    "        test_name = row['Test Name']\n",
    "        description = row['Description']\n",
    "        url = row['URL']\n",
    "        \n",
    "        # Chunk the description into 128-word chunks\n",
    "        chunks = chunk_text(description, chunk_size=128)\n",
    "        \n",
    "        # Create a new row for each chunk\n",
    "        for chunk in chunks:\n",
    "            new_row = {\n",
    "                'Test Name': test_name,\n",
    "                'Description': chunk,\n",
    "                'Source': source,\n",
    "                'URL': url\n",
    "            }\n",
    "            new_rows.append(new_row)\n",
    "    \n",
    "    # Create a new DataFrame from the list of new rows\n",
    "    new_df = pd.DataFrame(new_rows)\n",
    "    return new_df\n"
   ]
  },
  {
   "cell_type": "code",
   "execution_count": 31,
   "metadata": {},
   "outputs": [],
   "source": [
    "med_df = process_csv(df,source=  \"medlineplus\")"
   ]
  },
  {
   "cell_type": "code",
   "execution_count": 32,
   "metadata": {},
   "outputs": [],
   "source": [
    "# Write the new DataFrame to a CSV file\n",
    "med_df.to_csv(f\"medlineplus_chunks_{CHUNK_SIZE}.csv\", index=False)"
   ]
  },
  {
   "cell_type": "code",
   "execution_count": 33,
   "metadata": {},
   "outputs": [],
   "source": [
    "test_df = process_csv(df2, source=\"testing.com\")"
   ]
  },
  {
   "cell_type": "code",
   "execution_count": 34,
   "metadata": {},
   "outputs": [],
   "source": [
    "test_df.to_csv(f\"testing_chunks_{CHUNK_SIZE}.csv\", index=False)"
   ]
  },
  {
   "cell_type": "markdown",
   "metadata": {},
   "source": [
    "# EXTRACT DATA FROM PDF"
   ]
  },
  {
   "cell_type": "code",
   "execution_count": null,
   "metadata": {},
   "outputs": [],
   "source": [
    "\n",
    "# Function to extract text from PDF\n",
    "def extract_text_from_pdf(pdf_path):\n",
    "    doc = fitz.open(pdf_path)\n",
    "    return \"\\n\".join([page.get_text(\"text\") for page in doc])\n",
    "\n",
    "def clean_text_preserve_paragraphs(text):\n",
    "    # Split the text into lines\n",
    "    lines = text.split(\"\\n\")\n",
    "    \n",
    "    # Remove excessive spaces within lines and filter out empty lines\n",
    "    cleaned_lines = []\n",
    "    for line in lines:\n",
    "        stripped_line = line.strip()\n",
    "        if stripped_line:  # Keep non-empty lines\n",
    "            cleaned_lines.append(stripped_line)\n",
    "        elif cleaned_lines and cleaned_lines[-1] != \"\":  # Preserve paragraph spacing\n",
    "            cleaned_lines.append(\"\")\n",
    "    \n",
    "    # Join the cleaned lines back into a single text\n",
    "    return \"\\n\".join(cleaned_lines)\n",
    "\n",
    "# Function to split text into chunks\n",
    "def create_text_chunks(text, chunk_size=CHUNK_SIZE):\n",
    "    words = text.split()\n",
    "    return [\" \".join(words[i:i + chunk_size]) for i in range(0, len(words), chunk_size)]\n",
    "\n",
    "# Function to extract headings and map content to them\n",
    "def extract_headings_and_text(text):\n",
    "    lines = text.split(\"\\n\")\n",
    "    extracted_data = []\n",
    "    current_heading = None\n",
    "    buffer = []\n",
    "    \n",
    "    for line in lines:\n",
    "        if line.isupper() and len(line) > 3:  # Heuristic for headings\n",
    "            if buffer:\n",
    "                extracted_data.append((current_heading, \" \".join(buffer)))\n",
    "                buffer = []\n",
    "            current_heading = line.strip()\n",
    "        else:\n",
    "            buffer.append(line.strip())\n",
    "    \n",
    "    if buffer:\n",
    "        extracted_data.append((current_heading, \" \".join(buffer)))\n",
    "    \n",
    "    return extracted_data\n",
    "\n",
    "# Function to create a structured DataFrame\n",
    "def create_dataframe_from_text_files(txt_folder):\n",
    "    data_list = []\n",
    "    txt_files = sorted(os.listdir(txt_folder), key=lambda x: int(x.split(\".\")[0]))\n",
    "    \n",
    "    for txt_file in txt_files:\n",
    "        txt_path = os.path.join(txt_folder, txt_file)\n",
    "        with open(txt_path, \"r\", encoding=\"utf-8\") as f:\n",
    "            text_data = f.read()\n",
    "        \n",
    "        extracted_data = extract_headings_and_text(text_data)\n",
    "        text_chunks = create_text_chunks(text_data)\n",
    "        \n",
    "        for chunk in text_chunks:\n",
    "            test_name, source = \"No_testName\", \"No_Source\"\n",
    "            \n",
    "            for heading, content in extracted_data:\n",
    "                if chunk in content:\n",
    "                    test_name = heading\n",
    "                    source = heading\n",
    "                    break\n",
    "            \n",
    "            data_list.append({\n",
    "                \"Test Name\": test_name,\n",
    "                \"Description\": chunk,\n",
    "                \"Source\": source,\n",
    "                \"URL\": \"No_URl\"\n",
    "            })\n",
    "    \n",
    "    return pd.DataFrame(data_list)\n",
    "\n",
    "# Function to save DataFrame to a CSV file\n",
    "def save_dataframe(df, output_path):\n",
    "    df.to_csv(output_path, index=False, encoding=\"utf-8\")\n",
    "\n",
    "\n"
   ]
  },
  {
   "cell_type": "code",
   "execution_count": null,
   "metadata": {},
   "outputs": [],
   "source": [
    "# Main execution\n",
    "text_from_pdf = extract_text_from_pdf(\"..\\DATA\\Books/nf\\december_2023_version_lab_va.pdf\")\n",
    "cleaned_text = clean_text_preserve_paragraphs(text_from_pdf)\n",
    "print(cleaned_text)\n",
    "\n",
    "# with open(\"..\\DATA\\TextFiles/10.txt\", \"w\", encoding=\"utf-8\") as f:\n",
    "#     f.write(text_from_pdf)\n"
   ]
  },
  {
   "cell_type": "code",
   "execution_count": null,
   "metadata": {},
   "outputs": [
    {
     "name": "stdout",
     "output_type": "stream",
     "text": [
      "Data processing complete. CSV file saved.\n"
     ]
    }
   ],
   "source": [
    "txt_folder = \"../DATA/TextFiles\"\n",
    "df = create_dataframe_from_text_files(txt_folder)\n",
    "save_dataframe(df, f\"books_{CHUNK_SIZE}.csv\")\n",
    "\n",
    "print(\"Data processing complete. CSV file saved.\")"
   ]
  },
  {
   "cell_type": "markdown",
   "metadata": {},
   "source": [
    "# Creating Embeddings"
   ]
  },
  {
   "cell_type": "code",
   "execution_count": 12,
   "metadata": {},
   "outputs": [
    {
     "name": "stderr",
     "output_type": "stream",
     "text": [
      "e:\\D\\Work\\Projects\\Medical Lab Bot\\Test_Files\\.venv\\Lib\\site-packages\\tqdm\\auto.py:21: TqdmWarning: IProgress not found. Please update jupyter and ipywidgets. See https://ipywidgets.readthedocs.io/en/stable/user_install.html\n",
      "  from .autonotebook import tqdm as notebook_tqdm\n"
     ]
    }
   ],
   "source": [
    "import pandas as pd\n",
    "import concurrent.futures\n",
    "from sentence_transformers import SentenceTransformer"
   ]
  },
  {
   "cell_type": "code",
   "execution_count": 13,
   "metadata": {},
   "outputs": [],
   "source": [
    "embedding_model = SentenceTransformer('sentence-transformers/msmarco-bert-base-dot-v5')"
   ]
  },
  {
   "cell_type": "code",
   "execution_count": 14,
   "metadata": {},
   "outputs": [],
   "source": [
    "\n",
    "# Load CSV files\n",
    "# df1 = pd.read_csv(f\"../DATA/Chunked_data/medlineplus_chunks_{CHUNK_SIZE}.csv\")\n",
    "# df2 = pd.read_csv(f\"../DATA/Chunked_data/testing_chunks_{CHUNK_SIZE}.csv\")\n",
    "# df3 = pd.read_csv(f\"../DATA/Chunked_data/books_{CHUNK_SIZE}.csv\")\n",
    "df3 = pd.read_csv(f\"books_325.csv\")"
   ]
  },
  {
   "cell_type": "code",
   "execution_count": 19,
   "metadata": {},
   "outputs": [
    {
     "data": {
      "application/vnd.microsoft.datawrangler.viewer.v0+json": {
       "columns": [
        {
         "name": "index",
         "rawType": "int64",
         "type": "integer"
        },
        {
         "name": "Test Name",
         "rawType": "object",
         "type": "string"
        },
        {
         "name": "Description",
         "rawType": "object",
         "type": "string"
        },
        {
         "name": "Source",
         "rawType": "object",
         "type": "string"
        },
        {
         "name": "URL",
         "rawType": "object",
         "type": "string"
        }
       ],
       "conversionMethod": "pd.DataFrame",
       "ref": "800f4247-f4ff-4272-a34a-69c5436fcd0c",
       "rows": [
        [
         "0",
         "No_testName",
         "2. Complete Blood Count The Complete Blood Count (CBC) Panel is a group of four specific tests which provides results regarding the concentration of White Blood Cells (WBC), Red Blood Cells (RBC), Platelets, as well as the concentration of Hemoglobin and Hematocrit within a blood sample.3 The CBC can provide information regarding an individual’s overall health and is utilized as a differential diagnosis of a variety of disease and conditions, including anemia, infection, and leukemia.3 Monitor vital signs (Adult Vital Sign Interpretation in Acute Care Guide 2021),28 use a symptom-based approach, and collaborate with the interprofessional team regarding risk vs. benefit of physical therapy intervention with abnormal findings in the context of the complex clinical condition. White Blood Cells (Leukocytes) play a crucial role in the immune system by providing protection against infectious diseases and foreign invaders. WBC testing is utilized to identify the presence of infection and conditions that cause inflammation, allergic reactions, and cancers of the blood and lymphatic system. Fluctuations of WBCs occur at all ages but are greatest in infants. Pre-term and full-term infants have physiologically higher baseline WBC count, compared to adults.29 Reference Ranges (per mm3)3 Newborn: 9,000-30,000 Child ≤ 2 years: 6,200-17,000 Child > 2 years/adult: 5,000-10,000 Possible Critical Values: < 2,500 or > 30,000 Absolute Neutrophil Count (ANC) is the total neutrophil granulocytes present in the blood. Consider protective isolation/reverse precautions when ANC < 1,000/mm3 as a result of severe immunocompromise and increased infection risk.3 ANC Guidelines30: ANC Value Risk for Infection < 500/mm3 Highest 500-1000/mm3 Moderate > 1000/mm3 Low Trending Upward Leukocytosis Causes3 Presentation1 Clinical Implications Items below are for adults and pediatrics (birth to 18 years) unless otherwise specified. Infection Inflammation Bone marrow disease Immune system disorder Severe stress/pain Fever Fatigue Bleeding Bruising Frequent infections Closely assess and monitor for signs/symptoms of multisystem complication in patients presenting with hyperleukocytosis (WBC > 100,00 mm3), as these patients are at increased risk for cardiac, pulmonary, renal, and neurologic",
         "No_Source",
         "No_URl"
        ],
        [
         "1",
         "No_testName",
         "involvement as it relates to leukostasis.31,32 Consider the timing of physical therapy session due to early-morning low level and late-afternoon high peak.33 12 Trending Downward Leukopenia Causes3 Presentation34 Clinical Implications Items below are for adults and pediatrics (birth to 18 years) unless otherwise specified. Chemotherapy Radiation therapy Marrow infiltrative diseases Infections (viral and bacterial) Dietary deficiency Autoimmune disease Frequent and/or persistent infections Inflammation or ulcers in and around the mouth Headache Stiff neck Sore throat Fever/chills Night sweats Refer to facility guidelines for neutropenic precautions, adjust therapeutic activities accordingly. Monitor for signs and symptoms of infection during physical therapy intervention. Monitor for fatigue during physical therapy intervention and educate regarding interval training and energy conservation. Consider using the Borg RPE (rate of perceived exertion) scale or dyspnea scale in addition to vital sign monitoring with activity progression and symptom presentation. Provide fall prevention screening and intervention as patients may be at risk for falls related to the underlying diagnosis and treatment. Use caution during neurogenic bowel or bladder programs, S4-S5 testing (spinal cord injury/tumors) and rectal exams, as patients may be at an increased risk for infection.35 Notify the interprofessional team immediately if a patient with a cancer diagnosis is neutropenic and has a fever (> 100.4o F or 38o C). This is considered an oncologic emergency.36 Discuss with the interprofessional team risk vs. benefit if planning to utilize dry needling, given that patients with neutropenia are at high risk for infection.37,38 13 Platelets (Thrombocytes) help stop bleeding by forming a clot. There is limited evidence to support an absolute or relative threshold to discontinue physical therapy intervention for patients that are thrombocytopenic.39 Musculoskeletal bleeding is a key characteristic of many bleeding disorders and can result in permanent damage to the joints and muscles.40 Thrombocytopenia in infants should be considered pathologic not physiologic.29 Reference Ranges (per mm3)3 Premature infant: 100,000-300,000 Newborn: 150,000-300,000 Infant: 200,000-475,000 Child/adult: 150,000-400,000 Possible Critical Values: < 50,000 or > 1 million",
         "No_Source",
         "No_URl"
        ],
        [
         "2",
         "No_testName",
         "Trending Upward Thrombocytosis & Thrombocythemia Causes3 Presentation41 Clinical Implications Items below are for adults and pediatrics (birth to 18 years) unless otherwise specified. Cancer Polycythemia vera Splenectomy Acute/chronic inflammation Strenuous exercise Iron-deficiency anemia Headache Dizziness Weakness Chest pain Tingling in hands/feet Screen for venous thromboembolism (VTE) using patient diagnosis-specific evidence-based tool due to increased risk with elevated levels. Monitor for signs and symptoms of VTE and consider referral to a medical provider as appropriate. Refer to Coagulation Tests and Assays section. Collaborate with the interprofessional team regarding risk vs. benefit of physical therapy intervention with abnormal findings. Trending Downward Thrombocytopenia Causes3 Presentation3 Clinical Implications Items below are for adults and pediatrics (birth to 18 years) unless otherwise specified. Hemorrhage/blood loss Damage to developing blood cells (oncologic diseases, chemotherapy, and radiation) Various diseases lead to reduced platelet count Additional Pediatric Considerations to above29: Infants: o Birth trauma o Respiratory distress o Trisomy syndromes o Newborn sepsis Petechiae Ecchymosis Oral bleeding Hematuria Epistaxis Educate patient/caregiver regarding risks and strategies to prevent falls. There is an increased risk of spontaneous bleeding resulting from a fall. Monitor for fatigue during physical therapy intervention and educate regarding interval training and energy conservation. Consider using the Borg RPE scale or dyspnea scale in addition to vital sign monitoring with activity progression and symptom presentation. Use caution during neurogenic bowel or bladder programs, S4-S5 testing (spinal cord injury/tumors) and rectal exams, as patients may be at an increased risk for bleeding.35 14 Discuss with the interprofessional team risk vs. benefit if planning to utilize dry needling, given patients with thrombocytopenia are at high risk for bleeding.37,38 Refer to the recommendations by the National Hemophilia Foundation’s Physical Therapy Guidelines when working with persons with bleeding and clotting disorders.42 Red Blood Cells (Erythrocytes) transport oxygen to the tissues throughout the body and use it to produce energy. These cells also carry carbon dioxide to the lungs. RBCs contain hemoglobin, an iron-rich protein, which gives",
         "No_Source",
         "No_URl"
        ],
        [
         "3",
         "No_testName",
         "blood its red color.43 Patients presenting with erythrocytosis have an increased risk for vaso-occlusive events, including myocardial infarction and stroke. This is secondary to increased viscosity of the blood and clot development risk.43 Reference Ranges (106/µL)3 Child: Adult: Newborn: 4.8-7.1 Male: 4.7-6.1 2-8 weeks: 4.0-6.0 Female: 4.2-5.4 2-6 months: 3.5-5.5 6 months-1 year: 3.5-5.2 1-18 years: 4.0-5.5 Trending Upward Erythrocytosis Causes3 Presentation44 Clinical Implications Items below are for adults and pediatrics (birth to 18 years) unless otherwise specified. High altitude Dehydration Cor pulmonale Pulmonary fibrosis Thalassemia trait Severe COPD Polycythemia vera Medications Congenital heart disease Weakness Fatigue Headache Lightheadedness Dyspnea Monitor for fatigue during physical therapy intervention and educate regarding interval training and energy conservation. Consider using the Borg RPE scale or dyspnea scale in addition to vital sign monitoring with activity progression and symptom presentation. Screen for VTE using patient diagnosis-specific evidence-based tool due to increased risk with elevated levels. Monitor for signs and symptoms of VTE and consider referral to a medical provider as appropriate. Refer to Coagulation Tests and Assays. 15 Trending Downward Anemia Causes3 Presentation43 Clinical Implications Items below are for adults and pediatrics (birth to 18 years) unless otherwise specified. Hemorrhage Bone marrow suppression Oncologic conditions Hemoglobinopathy Renal disease Pregnancy Dietary deficiency Prosthetic valves Overhydration Orthostatic hypotension Weakness Fatigue Dyspnea on exertion Pallor Dizziness Chest pain Leg cramps with exercise Monitor vital signs and cardiac rhythm during physical therapy intervention. Monitor for fatigue during physical therapy intervention and educate regarding interval training and energy conservation. Consider using the Borg RPE scale or dyspnea scale in addition to vital sign monitoring with activity progression and symptom presentation. Monitor for leg cramps during physical therapy intervention. Assess and monitor for cognitive impairment due to increased risk for altered mental status. Consider referral to other providers as appropriate. Provide fall prevention screening and intervention as needed due to increased fall risk. Monitor for signs and symptoms of orthostatic hypotension during positional changes and",
         "No_Source",
         "No_URl"
        ],
        [
         "4",
         "No_testName",
         "throughout physical therapy intervention. Discuss concerns for orthostatic hypotension with interprofessional team if noted during assessment/intervention. Monitor for orthostatic hypotension. Educate patient/caregiver on recognizing symptoms, avoiding quick postural changes, and monitoring blood pressure in the presence of orthostasis or dizziness. 16 Hemoglobin is the main component of RBCs and transports oxygen and carbon dioxide. Elevated values (> 20 g/dL) can lead to clogging of capillaries because of hemoconcentration.35 Iron deficiency anemia is the most common hematologic disorder and the most common cause of anemia among infants and children.29 Reference Ranges (g/dL)3 Child: Adult: Newborn: 14-24 Male: 14-18 0-2 weeks: 12-20 Female: 12-16 2-6 months: 10-17 Pregnant female: > 11 1-6 years: 9.5-14 Older adult: values are slightly decreased 6-18 years: 10-15.5 Possible Critical Values: < 5 or > 20 Trending Upward Polycythemia Causes3 Presentation45 unless otherwise cited Clinical Implications Items below are for adults and pediatrics (birth to 18 years) unless otherwise specified. Severe dehydration High altitude Smoking Congenital heart disease Chronic pulmonary disorders Heart failure Fatigue Headache Dizziness Visual changes Transient ischemic attack (TIA) Dysrhythmias Bruising Bleeding Additional Pediatrics Considerations to above29: Newborns o Jitteriness o Cyanosis o Hypotonia o Respiratory distress Monitor vital signs and cardiac rhythm during physical therapy intervention. Provide fall prevention screening and intervention as needed due to increased fall risk. Implement activity pacing strategies to reduce the load and prevent undue stress on the cardiovascular system. 17 Trending Downward Anemia Causes3 unless otherwise cited Presentation43 Clinical Implications Items below are for adults and pediatrics (birth to 18 years) unless otherwise specified. Hemorrhage/blood loss Vitamin B-12 and Iron deficiency Bone marrow suppression Oncologic conditions Metabolic disorders Various diseases can impact RBC production Medications Pallor Tachycardia Orthostatic hypotension Dysrhythmias Impaired endurance and activity tolerance Additional Pediatric Considerations to above: Infants may present with lethargy and poor feeding. Collaborate with the interprofessional team regarding risks vs. benefits and the need or timing of transfusion before mobilization.35,46 Assess and monitor all vital signs,",
         "No_Source",
         "No_URl"
        ]
       ],
       "shape": {
        "columns": 4,
        "rows": 5
       }
      },
      "text/html": [
       "<div>\n",
       "<style scoped>\n",
       "    .dataframe tbody tr th:only-of-type {\n",
       "        vertical-align: middle;\n",
       "    }\n",
       "\n",
       "    .dataframe tbody tr th {\n",
       "        vertical-align: top;\n",
       "    }\n",
       "\n",
       "    .dataframe thead th {\n",
       "        text-align: right;\n",
       "    }\n",
       "</style>\n",
       "<table border=\"1\" class=\"dataframe\">\n",
       "  <thead>\n",
       "    <tr style=\"text-align: right;\">\n",
       "      <th></th>\n",
       "      <th>Test Name</th>\n",
       "      <th>Description</th>\n",
       "      <th>Source</th>\n",
       "      <th>URL</th>\n",
       "    </tr>\n",
       "  </thead>\n",
       "  <tbody>\n",
       "    <tr>\n",
       "      <th>0</th>\n",
       "      <td>No_testName</td>\n",
       "      <td>2. Complete Blood Count The Complete Blood Cou...</td>\n",
       "      <td>No_Source</td>\n",
       "      <td>No_URl</td>\n",
       "    </tr>\n",
       "    <tr>\n",
       "      <th>1</th>\n",
       "      <td>No_testName</td>\n",
       "      <td>involvement as it relates to leukostasis.31,32...</td>\n",
       "      <td>No_Source</td>\n",
       "      <td>No_URl</td>\n",
       "    </tr>\n",
       "    <tr>\n",
       "      <th>2</th>\n",
       "      <td>No_testName</td>\n",
       "      <td>Trending Upward Thrombocytosis &amp; Thrombocythem...</td>\n",
       "      <td>No_Source</td>\n",
       "      <td>No_URl</td>\n",
       "    </tr>\n",
       "    <tr>\n",
       "      <th>3</th>\n",
       "      <td>No_testName</td>\n",
       "      <td>blood its red color.43 Patients presenting wit...</td>\n",
       "      <td>No_Source</td>\n",
       "      <td>No_URl</td>\n",
       "    </tr>\n",
       "    <tr>\n",
       "      <th>4</th>\n",
       "      <td>No_testName</td>\n",
       "      <td>throughout physical therapy intervention. Disc...</td>\n",
       "      <td>No_Source</td>\n",
       "      <td>No_URl</td>\n",
       "    </tr>\n",
       "  </tbody>\n",
       "</table>\n",
       "</div>"
      ],
      "text/plain": [
       "     Test Name                                        Description     Source  \\\n",
       "0  No_testName  2. Complete Blood Count The Complete Blood Cou...  No_Source   \n",
       "1  No_testName  involvement as it relates to leukostasis.31,32...  No_Source   \n",
       "2  No_testName  Trending Upward Thrombocytosis & Thrombocythem...  No_Source   \n",
       "3  No_testName  blood its red color.43 Patients presenting wit...  No_Source   \n",
       "4  No_testName  throughout physical therapy intervention. Disc...  No_Source   \n",
       "\n",
       "      URL  \n",
       "0  No_URl  \n",
       "1  No_URl  \n",
       "2  No_URl  \n",
       "3  No_URl  \n",
       "4  No_URl  "
      ]
     },
     "execution_count": 19,
     "metadata": {},
     "output_type": "execute_result"
    }
   ],
   "source": [
    "df3.head()"
   ]
  },
  {
   "cell_type": "code",
   "execution_count": null,
   "metadata": {},
   "outputs": [],
   "source": [
    "\n",
    "def embeddingCreator(text):\n",
    "    \"\"\"\n",
    "    Generates embeddings for a given text using SentenceTransformer.\n",
    "    \"\"\"\n",
    "    return embedding_model.encode(text).tolist()\n",
    "\n",
    "def Scrapper_With_Source(df, source):\n",
    "    \"\"\"\n",
    "    Extracts embeddings and metadata from a DataFrame when a fixed source is given.\n",
    "    \"\"\"\n",
    "    data = []\n",
    "    for i, row in df.iterrows():\n",
    "        text = row[\"Description\"]\n",
    "        test_name = row[\"Test Name\"]\n",
    "        url = row[\"URL\"]\n",
    "\n",
    "        tokens = embeddingCreator(text)\n",
    "        data.append({\"Test Name\": test_name, \"tokens\": tokens, \"text\": text, \"Source\": source, \"URL\": url})\n",
    "        \n",
    "        if i % 100 == 0:  # Print progress every 100 rows\n",
    "            print(f\"Processed {i}/{len(df)} rows (Source: {source})\")\n",
    "\n",
    "    return pd.DataFrame(data)\n",
    "\n",
    "def Scrapper_With_Out_Source(df):\n",
    "    \"\"\"\n",
    "    Extracts embeddings and metadata from a DataFrame when the source column exists.\n",
    "    \"\"\"\n",
    "    data = []\n",
    "    for i, row in df.iterrows():\n",
    "        text = row[\"Description\"]\n",
    "        test_name = row[\"Test Name\"]\n",
    "        url = row[\"URL\"]\n",
    "        source = row[\"Source\"]\n",
    "\n",
    "        tokens = embeddingCreator(text)\n",
    "        data.append({\"Test Name\": test_name, \"tokens\": tokens, \"text\": text, \"Source\": source, \"URL\": url})\n",
    "\n",
    "        if i % 100 == 0:  # Print progress every 100 rows\n",
    "            print(f\"Processed {i}/{len(df)} rows (Dynamic Source)\")\n",
    "\n",
    "    return pd.DataFrame(data)\n",
    "\n",
    "def writeToFile(df_tokens, filename):\n",
    "    \"\"\"\n",
    "    Writes the DataFrame to a CSV file.\n",
    "    \"\"\"\n",
    "    df_tokens.to_csv(filename, index=False, encoding=\"utf-8\")\n",
    "\n",
    "def Create_Embedding_With_Source(df, source, path):\n",
    "    \"\"\"\n",
    "    Wrapper function to process a DataFrame and store embeddings when source is known.\n",
    "    \"\"\"\n",
    "    df[\"Description\"] = df[\"Description\"].fillna('')\n",
    "    df_tokens = Scrapper_With_Source(df, source)\n",
    "    writeToFile(df_tokens, path)\n",
    "\n",
    "def Create_Embedding_With_Out_Source(df, path):\n",
    "    \"\"\"\n",
    "    Wrapper function to process a DataFrame and store embeddings when source is in CSV.\n",
    "    \"\"\"\n",
    "    df[\"Description\"] = df[\"Description\"].fillna('')\n",
    "    df_tokens = Scrapper_With_Out_Source(df)\n",
    "    writeToFile(df_tokens, path)\n",
    "\n"
   ]
  },
  {
   "cell_type": "code",
   "execution_count": 20,
   "metadata": {},
   "outputs": [
    {
     "name": "stdout",
     "output_type": "stream",
     "text": [
      "Processed 0/42 rows (Dynamic Source)\n"
     ]
    }
   ],
   "source": [
    "emb = Create_Embedding_With_Out_Source(df3, \"books_embeddings.csv\")"
   ]
  },
  {
   "cell_type": "code",
   "execution_count": 18,
   "metadata": {},
   "outputs": [
    {
     "name": "stdout",
     "output_type": "stream",
     "text": [
      "Processed 0/42 rows (Dynamic Source)\n",
      "✅ Successfully processed files\n"
     ]
    }
   ],
   "source": [
    "# Parallel execution of embedding creation\n",
    "if __name__ == \"__main__\":\n",
    "    with concurrent.futures.ThreadPoolExecutor(max_workers=3) as executor:\n",
    "        futures = {\n",
    "            executor.submit(Create_Embedding_With_Out_Source, df3, f\"/files_tokens_{CHUNK_SIZE}.csv\"): \"files\",\n",
    "            # executor.submit(Create_Embedding_With_Source, df1, f\"medlinePlus.com\", \"../DATA/Embedded_Files/medlinePlus_tokens_{CHUNK_SIZE}.csv\"): \"medlineplus\",\n",
    "            # executor.submit(Create_Embedding_With_Out_Source, df3, f\"../DATA/Embedded_Files/files_tokens_{CHUNK_SIZE}.csv\"): \"files\",\n",
    "            # executor.submit(Create_Embedding_With_Source, df2, f\"testing.com\", \"../DATA/Embedded_Files/testing_com_tokens_{CHUNK_SIZE}.csv\"): \"testing\",\n",
    "        }\n",
    "        \n",
    "        for future in concurrent.futures.as_completed(futures):\n",
    "            task_name = futures[future]\n",
    "            try:\n",
    "                future.result()  # This will raise exceptions if any occur\n",
    "                print(f\"✅ Successfully processed {task_name}\")\n",
    "            except Exception as e:\n",
    "                print(f\"❌ Error processing {task_name}: {e}\")"
   ]
  },
  {
   "cell_type": "code",
   "execution_count": null,
   "metadata": {},
   "outputs": [],
   "source": []
  }
 ],
 "metadata": {
  "kernelspec": {
   "display_name": ".venv",
   "language": "python",
   "name": "python3"
  },
  "language_info": {
   "codemirror_mode": {
    "name": "ipython",
    "version": 3
   },
   "file_extension": ".py",
   "mimetype": "text/x-python",
   "name": "python",
   "nbconvert_exporter": "python",
   "pygments_lexer": "ipython3",
   "version": "3.11.8"
  }
 },
 "nbformat": 4,
 "nbformat_minor": 2
}
