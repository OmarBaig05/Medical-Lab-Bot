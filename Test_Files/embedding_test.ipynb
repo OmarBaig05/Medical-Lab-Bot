{
 "cells": [
  {
   "cell_type": "code",
   "execution_count": 1,
   "metadata": {},
   "outputs": [],
   "source": [
    "import tiktoken"
   ]
  },
  {
   "cell_type": "code",
   "execution_count": null,
   "metadata": {},
   "outputs": [],
   "source": [
    "import pandas as pd\n",
    "\n",
    "df = pd.read_csv(\"../DATA/Scraped_Data/medical_tests_interpretation.csv\")\n",
    "df2 = pd.read_csv(\"../DATA/Scraped_Data/testing_scraped_content.csv\")"
   ]
  },
  {
   "cell_type": "code",
   "execution_count": 4,
   "metadata": {},
   "outputs": [
    {
     "data": {
      "text/html": [
       "<div>\n",
       "<style scoped>\n",
       "    .dataframe tbody tr th:only-of-type {\n",
       "        vertical-align: middle;\n",
       "    }\n",
       "\n",
       "    .dataframe tbody tr th {\n",
       "        vertical-align: top;\n",
       "    }\n",
       "\n",
       "    .dataframe thead th {\n",
       "        text-align: right;\n",
       "    }\n",
       "</style>\n",
       "<table border=\"1\" class=\"dataframe\">\n",
       "  <thead>\n",
       "    <tr style=\"text-align: right;\">\n",
       "      <th></th>\n",
       "      <th>Test Name</th>\n",
       "      <th>Description</th>\n",
       "      <th>Source</th>\n",
       "      <th>URL</th>\n",
       "    </tr>\n",
       "  </thead>\n",
       "  <tbody>\n",
       "    <tr>\n",
       "      <th>0</th>\n",
       "      <td>Acetaminophen Level</td>\n",
       "      <td>What is an acetaminophen level test? This test...</td>\n",
       "      <td>MedlinePlus</td>\n",
       "      <td>https://medlineplus.gov/lab-tests/acetaminophe...</td>\n",
       "    </tr>\n",
       "    <tr>\n",
       "      <th>1</th>\n",
       "      <td>Acid-Fast Bacillus (AFB) Tests</td>\n",
       "      <td>What are acid-fast bacillus (AFB) tests? Acid-...</td>\n",
       "      <td>MedlinePlus</td>\n",
       "      <td>https://medlineplus.gov/lab-tests/acid-fast-ba...</td>\n",
       "    </tr>\n",
       "  </tbody>\n",
       "</table>\n",
       "</div>"
      ],
      "text/plain": [
       "                        Test Name  \\\n",
       "0             Acetaminophen Level   \n",
       "1  Acid-Fast Bacillus (AFB) Tests   \n",
       "\n",
       "                                         Description       Source  \\\n",
       "0  What is an acetaminophen level test? This test...  MedlinePlus   \n",
       "1  What are acid-fast bacillus (AFB) tests? Acid-...  MedlinePlus   \n",
       "\n",
       "                                                 URL  \n",
       "0  https://medlineplus.gov/lab-tests/acetaminophe...  \n",
       "1  https://medlineplus.gov/lab-tests/acid-fast-ba...  "
      ]
     },
     "execution_count": 4,
     "metadata": {},
     "output_type": "execute_result"
    }
   ],
   "source": [
    "df.head(2)"
   ]
  },
  {
   "cell_type": "code",
   "execution_count": 5,
   "metadata": {},
   "outputs": [],
   "source": [
    "def embeddingCreator(text,modelName = \"o200k_base\"):\n",
    "    encoding = tiktoken.get_encoding(modelName)\n",
    "    tokens = encoding.encode(text)\n",
    "    return tokens"
   ]
  },
  {
   "cell_type": "code",
   "execution_count": 6,
   "metadata": {},
   "outputs": [],
   "source": [
    "def Scrapper(df,modelName = \"o200k_base\"):\n",
    "    df_tokens = pd.DataFrame(columns=[\"Test Name\",\"tokens\",\"Source\",\"URL\"])\n",
    "    for i in range(len(df)):\n",
    "        text = df.loc[i,\"Description\"]\n",
    "        test_Name = df.loc[i,\"Test Name\"]\n",
    "        Url = df.loc[i,\"URL\"]\n",
    "\n",
    "        tokens = embeddingCreator(text,modelName)\n",
    "        df_tokens = pd.concat([df_tokens, pd.DataFrame([{\"Test Name\":test_Name,\"tokens\":tokens, \"Source\":\"MedlinePlus.com\",\"URL\":Url}])], ignore_index=True)\n",
    "    return df_tokens\n",
    "\n",
    "def writeToFile(df_tokens, filename):\n",
    "    df_tokens.to_csv(filename, index=False)"
   ]
  },
  {
   "cell_type": "code",
   "execution_count": 7,
   "metadata": {},
   "outputs": [
    {
     "name": "stdout",
     "output_type": "stream",
     "text": [
      "RangeIndex(start=0, stop=300, step=1)\n"
     ]
    }
   ],
   "source": [
    "# Fill NaN values in the Description column with an empty string\n",
    "df['Description'] = df['Description'].fillna('')\n",
    "print(df.index)\n",
    "\n",
    "testing_df = Scrapper(df)"
   ]
  },
  {
   "cell_type": "code",
   "execution_count": 10,
   "metadata": {},
   "outputs": [],
   "source": [
    "import os\n",
    "\n",
    "writeToFile(testing_df, \"medlinePlus_tokens.csv\")"
   ]
  },
  {
   "cell_type": "code",
   "execution_count": 16,
   "metadata": {},
   "outputs": [
    {
     "name": "stdout",
     "output_type": "stream",
     "text": [
      " protein to creatinine ratio or UPCR (mg/mg) is normally less than 0.2 for adults. Elevated urine protein levels may be seen temporarily with conditions such as infections, stress, pregnancy, diet, cold exposure, or heavy exercise. Persistent protein in the urine suggests possible kidney damage or some other condition that requires additional testing to determine the cause. If slight to moderate amounts of protein are detected, then a repeat urinalysis and dipstick protein may be performed later to see if there is still protein in the urine or if it has become undetectable. When there is a large amount of protein in the first sample, repeat testing will be ordered. If increased urine protein levels are observed in follow-up specimens, then a 24-hour urine protein may be ordered along with certain blood tests. The dipstick method primarily measures the protein albumin; if follow-up, repeat urine samples are positive, a 24-hour urine test also may be ordered to obtain more detailed information. A negative test result means there is no increased amount of protein in the urine at the time of testing. Protein detected in a random urine sample may be temporary due to an infection, medication, vigorous exercise, pregnancy, diet, cold exposure, or emotional or physical stress. Testing should\n"
     ]
    }
   ],
   "source": [
    "modelName = \"o200k_base\"\n",
    "encoding = tiktoken.get_encoding(modelName)\n",
    "\n",
    "xyz = [16737, 316, 4057, 153854, 18051, 503, 19153, 7027, 350, 15026, 5712, 70, 8, 382, 19857, 3760, 1572, 220, 15, 13, 17, 395, 16604, 13, 135967, 56539, 16737, 8374, 1340, 413, 6177, 48722, 483, 6409, 2238, 472, 36493, 11, 9260, 11, 27943, 11, 10976, 11, 12146, 21452, 11, 503, 12914, 13526, 13, 113929, 16737, 306, 290, 56539, 23379, 4149, 51506, 10364, 503, 1236, 1273, 7060, 484, 10860, 6623, 11493, 316, 11433, 290, 7075, 13, 1843, 12644, 316, 36748, 22586, 328, 16737, 553, 28357, 11, 1815, 261, 22962, 4191, 1028, 5828, 326, 14223, 46389, 16737, 1340, 413, 14469, 4849, 316, 1921, 538, 1354, 382, 2928, 16737, 306, 290, 56539, 503, 538, 480, 853, 5025, 844, 35403, 562, 13, 4296, 1354, 382, 261, 4410, 4527, 328, 16737, 306, 290, 1577, 10176, 11, 22962, 11493, 738, 413, 17889, 13, 1843, 11202, 56539, 16737, 8374, 553, 20395, 306, 2622, 7288, 96028, 11, 1815, 261, 220, 1494, 27767, 56539, 16737, 1340, 413, 17889, 4251, 483, 4454, 8642, 10742, 13, 623, 14223, 46389, 2595, 22696, 16005, 290, 16737, 11149, 258, 26, 538, 2622, 7288, 11, 22962, 56539, 16902, 553, 8841, 11, 261, 220, 1494, 27767, 56539, 1746, 1217, 1340, 413, 17889, 316, 9579, 945, 14633, 2164, 13, 355, 12626, 1746, 1534, 4748, 1354, 382, 860, 11202, 4527, 328, 16737, 306, 290, 56539, 540, 290, 1058, 328, 11493, 13, 71484, 28357, 306, 261, 7526, 56539, 10176, 1340, 413, 23005, 5192, 316, 448, 24392, 11, 26547, 11, 133659, 13526, 11, 27943, 11, 10976, 11, 12146, 21452, 11, 503, 19864, 503, 9811, 9260, 13, 42477, 1757]\n",
    "print(encoding.decode(xyz))"
   ]
  },
  {
   "cell_type": "code",
   "execution_count": null,
   "metadata": {},
   "outputs": [],
   "source": []
  }
 ],
 "metadata": {
  "kernelspec": {
   "display_name": ".venv",
   "language": "python",
   "name": "python3"
  },
  "language_info": {
   "codemirror_mode": {
    "name": "ipython",
    "version": 3
   },
   "file_extension": ".py",
   "mimetype": "text/x-python",
   "name": "python",
   "nbconvert_exporter": "python",
   "pygments_lexer": "ipython3",
   "version": "3.11.8"
  }
 },
 "nbformat": 4,
 "nbformat_minor": 2
}
