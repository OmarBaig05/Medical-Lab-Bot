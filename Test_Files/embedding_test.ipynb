{
 "cells": [
  {
   "cell_type": "code",
   "execution_count": 1,
   "metadata": {},
   "outputs": [],
   "source": [
    "import tiktoken"
   ]
  },
  {
   "cell_type": "code",
   "execution_count": null,
   "metadata": {},
   "outputs": [],
   "source": [
    "import pandas as pd\n",
    "\n",
    "df = pd.read_csv(\"../DATA/Scraped_Data/medical_tests_interpretation.csv\")\n",
    "df2 = pd.read_csv(\"../DATA/Scraped_Data/testing_scraped_content.csv\")"
   ]
  },
  {
   "cell_type": "code",
   "execution_count": 4,
   "metadata": {},
   "outputs": [
    {
     "data": {
      "text/html": [
       "<div>\n",
       "<style scoped>\n",
       "    .dataframe tbody tr th:only-of-type {\n",
       "        vertical-align: middle;\n",
       "    }\n",
       "\n",
       "    .dataframe tbody tr th {\n",
       "        vertical-align: top;\n",
       "    }\n",
       "\n",
       "    .dataframe thead th {\n",
       "        text-align: right;\n",
       "    }\n",
       "</style>\n",
       "<table border=\"1\" class=\"dataframe\">\n",
       "  <thead>\n",
       "    <tr style=\"text-align: right;\">\n",
       "      <th></th>\n",
       "      <th>Test Name</th>\n",
       "      <th>Description</th>\n",
       "      <th>Source</th>\n",
       "      <th>URL</th>\n",
       "    </tr>\n",
       "  </thead>\n",
       "  <tbody>\n",
       "    <tr>\n",
       "      <th>0</th>\n",
       "      <td>Acetaminophen Level</td>\n",
       "      <td>What is an acetaminophen level test? This test...</td>\n",
       "      <td>MedlinePlus</td>\n",
       "      <td>https://medlineplus.gov/lab-tests/acetaminophe...</td>\n",
       "    </tr>\n",
       "    <tr>\n",
       "      <th>1</th>\n",
       "      <td>Acid-Fast Bacillus (AFB) Tests</td>\n",
       "      <td>What are acid-fast bacillus (AFB) tests? Acid-...</td>\n",
       "      <td>MedlinePlus</td>\n",
       "      <td>https://medlineplus.gov/lab-tests/acid-fast-ba...</td>\n",
       "    </tr>\n",
       "  </tbody>\n",
       "</table>\n",
       "</div>"
      ],
      "text/plain": [
       "                        Test Name  \\\n",
       "0             Acetaminophen Level   \n",
       "1  Acid-Fast Bacillus (AFB) Tests   \n",
       "\n",
       "                                         Description       Source  \\\n",
       "0  What is an acetaminophen level test? This test...  MedlinePlus   \n",
       "1  What are acid-fast bacillus (AFB) tests? Acid-...  MedlinePlus   \n",
       "\n",
       "                                                 URL  \n",
       "0  https://medlineplus.gov/lab-tests/acetaminophe...  \n",
       "1  https://medlineplus.gov/lab-tests/acid-fast-ba...  "
      ]
     },
     "execution_count": 4,
     "metadata": {},
     "output_type": "execute_result"
    }
   ],
   "source": [
    "df.head(2)"
   ]
  },
  {
   "cell_type": "code",
   "execution_count": 2,
   "metadata": {},
   "outputs": [],
   "source": [
    "def embeddingCreator(text,modelName = \"o200k_base\"):\n",
    "    encoding = tiktoken.get_encoding(modelName)\n",
    "    tokens = encoding.encode(text)\n",
    "    return tokens"
   ]
  },
  {
   "cell_type": "code",
   "execution_count": 3,
   "metadata": {},
   "outputs": [],
   "source": [
    "def Scrapper(df,modelName = \"o200k_base\"):\n",
    "    df_tokens = pd.DataFrame(columns=[\"Test Name\",\"tokens\",\"Source\",\"URL\"])\n",
    "    for i in range(len(df)):\n",
    "        text = df.loc[i,\"Description\"]\n",
    "        test_Name = df.loc[i,\"Test Name\"]\n",
    "        Url = df.loc[i,\"URL\"]\n",
    "\n",
    "        tokens = embeddingCreator(text,modelName)\n",
    "        df_tokens = pd.concat([df_tokens, pd.DataFrame([{\"Test Name\":test_Name,\"tokens\":tokens, \"Source\":\"MedlinePlus.com\",\"URL\":Url}])], ignore_index=True)\n",
    "    return df_tokens\n",
    "\n",
    "def writeToFile(df_tokens, filename):\n",
    "    df_tokens.to_csv(filename, index=False)"
   ]
  },
  {
   "cell_type": "code",
   "execution_count": 7,
   "metadata": {},
   "outputs": [
    {
     "name": "stdout",
     "output_type": "stream",
     "text": [
      "RangeIndex(start=0, stop=300, step=1)\n"
     ]
    }
   ],
   "source": [
    "# Fill NaN values in the Description column with an empty string\n",
    "df['Description'] = df['Description'].fillna('')\n",
    "print(df.index)\n",
    "\n",
    "testing_df = Scrapper(df)"
   ]
  },
  {
   "cell_type": "code",
   "execution_count": 10,
   "metadata": {},
   "outputs": [],
   "source": [
    "import os\n",
    "\n",
    "writeToFile(testing_df, \"medlinePlus_tokens.csv\")"
   ]
  },
  {
   "cell_type": "code",
   "execution_count": 4,
   "metadata": {},
   "outputs": [
    {
     "name": "stdout",
     "output_type": "stream",
     "text": [
      "AMA Glossary of Medical Terms   (Source:   www.ama-assn.org  )      A  B  C  D  E  F  G  H  I  J  K  L  M  N  O  P  Q  R  S  T  U  V  W  X  Y  Z      A     Abdominal cavity - the part of the body between the bottom of the ribs and the top of the  thighs, containing most of the digestive and urinary systems along with some reproductive  organs   ABO blood groups - The system by which human blood is classified, based on proteins  occurring on red blood cells; the four classification groups are A, AB, B, and O   Abortion - termination of a pregnancy; can occur because of natural causes (called a  miscarriage) or be a medical intervention   Abscess - an accumulation of   pus  in a body tissue, usually caused by a bacterial infection   ACE inhibitor - a drug typically used to treat high   blood pressure   (A ngiotensin- C onverting  E nzyme inhibitor)   Achilles tendon - the   tendon  at the back of the lower leg that connects the calf muscle to  the heel bone   Acid-base balance - the\n"
     ]
    }
   ],
   "source": [
    "modelName = \"o200k_base\"\n",
    "encoding = tiktoken.get_encoding(modelName)\n",
    "\n",
    "xyz = [44094, 106720, 815, 328, 16610, 24079, 256, 350, 4823, 25, 256, 6233, 13, 2152, 44229, 77, 4519, 220, 1546, 530, 355, 220, 418, 220, 363, 220, 415, 220, 457, 220, 454, 220, 499, 220, 487, 220, 357, 220, 643, 220, 658, 220, 451, 220, 391, 220, 478, 220, 532, 220, 398, 220, 1486, 220, 460, 220, 336, 220, 353, 220, 601, 220, 631, 220, 486, 220, 2127, 220, 865, 220, 1489, 530, 355, 257, 3483, 58960, 78144, 533, 290, 997, 328, 290, 3641, 2870, 290, 8725, 328, 290, 94364, 326, 290, 2344, 328, 290, 220, 94810, 11, 15683, 1645, 328, 290, 73165, 326, 107350, 7511, 4251, 483, 1236, 75077, 220, 59303, 256, 181828, 8642, 8896, 533, 623, 2420, 656, 1118, 5396, 8642, 382, 37340, 11, 4122, 402, 37394, 220, 51667, 402, 3592, 8642, 11242, 26, 290, 4242, 39594, 8896, 553, 355, 11, 16520, 11, 418, 11, 326, 532, 256, 3483, 51871, 533, 64585, 328, 261, 27943, 26, 665, 11416, 2236, 328, 6247, 16431, 350, 82970, 261, 220, 195304, 8, 503, 413, 261, 7774, 32206, 256, 31750, 1185, 533, 448, 70787, 328, 256, 39768, 220, 306, 261, 3641, 27231, 11, 6971, 14273, 656, 261, 70302, 24392, 256, 71923, 98986, 533, 261, 7231, 13729, 2061, 316, 4665, 1932, 256, 8642, 9890, 256, 350, 32, 1657, 62585, 174560, 12, 363, 402, 94938, 220, 457, 297, 47291, 98986, 8, 256, 170018, 138084, 533, 290, 256, 138084, 220, 540, 290, 1602, 328, 290, 6931, 3050, 484, 47599, 290, 110483, 21237, 316, 220, 290, 14564, 21235, 256, 83597, 55305, 10636, 533, 290]\n",
    "decodedData = encoding.decode(xyz)\n",
    "print(decodedData)"
   ]
  },
  {
   "cell_type": "code",
   "execution_count": 18,
   "metadata": {},
   "outputs": [
    {
     "data": {
      "text/plain": [
       "1304"
      ]
     },
     "execution_count": 18,
     "metadata": {},
     "output_type": "execute_result"
    }
   ],
   "source": [
    "len(decodedData)"
   ]
  },
  {
   "cell_type": "code",
   "execution_count": null,
   "metadata": {},
   "outputs": [],
   "source": []
  }
 ],
 "metadata": {
  "kernelspec": {
   "display_name": ".venv",
   "language": "python",
   "name": "python3"
  },
  "language_info": {
   "codemirror_mode": {
    "name": "ipython",
    "version": 3
   },
   "file_extension": ".py",
   "mimetype": "text/x-python",
   "name": "python",
   "nbconvert_exporter": "python",
   "pygments_lexer": "ipython3",
   "version": "3.11.8"
  }
 },
 "nbformat": 4,
 "nbformat_minor": 2
}
